{
 "cells": [
  {
   "cell_type": "markdown",
   "id": "0ae1a3b9",
   "metadata": {},
   "source": [
    "## Using a linear model to predict real estate prices\n",
    "Michael Vandervelden, 2023"
   ]
  },
  {
   "cell_type": "code",
   "execution_count": 288,
   "id": "e7c10b61",
   "metadata": {},
   "outputs": [],
   "source": [
    "# Import requisite libraries\n",
    "\n",
    "import asyncio\n",
    "from typing import List\n",
    "import httpx\n",
    "import json\n",
    "import pandas as pd\n",
    "import re\n",
    "import matplotlib.pyplot as plt\n",
    "import numpy as np\n",
    "from sklearn import linear_model\n",
    "from sklearn.model_selection import train_test_split\n",
    "from sklearn.preprocessing import LabelEncoder\n",
    "from sklearn.metrics import r2_score\n",
    "from urllib.parse import urlencode\n",
    "\n",
    "from parsel import Selector\n",
    "pd.set_option('display.max_rows', 50)"
   ]
  },
  {
   "cell_type": "code",
   "execution_count": 12,
   "id": "339c74e0",
   "metadata": {},
   "outputs": [],
   "source": [
    "client = httpx.AsyncClient(\n",
    "    http2=True,\n",
    "    headers={\n",
    "        \"accept-language\": \"en-US,en;q=0.9\",\n",
    "        \"user-agent\": \"Mozilla/5.0 (Windows NT 10.0; Win64; x64) AppleWebKit/537.36 (KHTML, like Gecko) Chrome/96.0.4664.110 Safari/537.36\",\n",
    "        \"accept\": \"text/html,application/xhtml+xml,application/xml;q=0.9,image/webp,image/apng,*/*;q=0.8\",\n",
    "        \"accept-language\": \"en-US;en;q=0.9\",\n",
    "        \"accept-encoding\": \"gzip, deflate, br\",\n",
    "    },\n",
    ")"
   ]
  },
  {
   "cell_type": "markdown",
   "id": "5bbe3e17",
   "metadata": {},
   "source": [
    "Here we store the latitude and longitude values for each borough, as well as the search term strings needed for each borough. These will later be passed as parameters to the scraping/data cleaning function defined below. "
   ]
  },
  {
   "cell_type": "code",
   "execution_count": 106,
   "id": "debca361",
   "metadata": {},
   "outputs": [],
   "source": [
    "brooklyn_coords = {\"west\":-74.28887284228514,\"east\":-74.01902115771483,\"south\":40.49361654444022,\"north\":40.65112924425314,}\n",
    "bronx_coords = {\"west\":-74.2075666845703, \"east\":-73.66786331542967, \"south\":40.49753808454121,\"north\":40.812174096474955,}\n",
    "manhattan_coords = {\"west\":-74.24867418457029, \"east\":-73.70897081542967,\"south\":40.62357275516118,\"north\":40.93761504703568,}\n",
    "statenisland_coords = {\"west\":-74.255641,\"east\":-74.052253,\"south\":40.495865,\"north\":40.648886,}\n",
    "queens_coords =  {\"west\":-73.962632,\"east\":-73.700272,\"south\":40.541722,\"north\":40.80071,}\n",
    "\n",
    "\n",
    "\n",
    "brooklyn_search = \"Brookyln NY New New York\"\n",
    "bronx_search = \"Bronx NY New York\"\n",
    "manhattan_search = \"Manhattan NY New York\"\n",
    "statenisland_search = \"Staten Island NY New York\"\n",
    "queens_search = \"Queens NY New York\""
   ]
  },
  {
   "cell_type": "markdown",
   "id": "5d89027f",
   "metadata": {},
   "source": [
    "Function to scrape and perform initial cleaning of Zillow data depending for each New York City borough "
   ]
  },
  {
   "cell_type": "code",
   "execution_count": 107,
   "id": "95440edb",
   "metadata": {},
   "outputs": [],
   "source": [
    "def get_and_clean_borough_data(location_dict, location_name):\n",
    "    BASE_HEADERS = {\n",
    "\n",
    "        \"accept-language\": \"en-US,en;q=0.9\",\n",
    "        \"user-agent\": \"Mozilla/5.0 (Windows NT 10.0; Win64; x64) AppleWebKit/537.36 (KHTML, like Gecko) Chrome/96.0.4664.110 Safari/537.36\",\n",
    "        \"accept\": \"text/html,application/xhtml+xml,application/xml;q=0.9,image/webp,image/apng,*/*;q=0.8\",\n",
    "        \"accept-language\": \"en-US;en;q=0.9\",\n",
    "        \"accept-encoding\": \"gzip, deflate, br\",\n",
    "    }\n",
    "\n",
    "    url = \"https://www.zillow.com/search/GetSearchPageState.htm?\"\n",
    "\n",
    "\n",
    "\n",
    "    # Search parameters\n",
    "    parameters = {\n",
    "        \"searchQueryState\": {\n",
    "            \"pagination\": {},\n",
    "            \"usersSearchTerm\": location_name,\n",
    "            \n",
    "            \"mapBounds\": location_dict,\n",
    "\n",
    "        },\n",
    "        \"wants\": {\n",
    "            \"cat1\": [\"listResults\", \"mapResults\"], \"cat2\": [\"total\"]\n",
    "        },\n",
    "        \"requestId\": 2,\n",
    "    }\n",
    "    response = httpx.get(url + urlencode(parameters), headers=BASE_HEADERS)\n",
    "    assert response.status_code == 200, \"request has been blocked\"\n",
    "    data = response.json()\n",
    "    results = response.json()[\"cat1\"][\"searchResults\"][\"mapResults\"]\n",
    "    data_list = json.dumps(results, indent=2)\n",
    "    df = pd.read_json(data_list)\n",
    "    \n",
    "    borough_df = df.drop(df.iloc[:, 7:], axis=1)\n",
    "    \n",
    "    \n",
    "    borough_df = borough_df.drop(columns=['zpid', 'rentalMarketingSubType','priceLabel'])\n",
    "        \n",
    "    \n",
    "    borough_df = borough_df.dropna()\n",
    "    \n",
    "    borough_df['price'] = borough_df['price'].apply(lambda x: re.sub('[$,KFrom]', '', x))\n",
    "    borough_df['beds'] = borough_df['beds'].apply(lambda x: int(x))\n",
    "    borough_df['baths'] = borough_df['baths'].apply(lambda x: int(x))\n",
    "    \n",
    "\n",
    "    return borough_df\n",
    "        "
   ]
  },
  {
   "cell_type": "markdown",
   "id": "0eace963",
   "metadata": {},
   "source": [
    "Creating a dataframe for each borough. These will be concatenated later."
   ]
  },
  {
   "cell_type": "code",
   "execution_count": 115,
   "id": "d2153def",
   "metadata": {},
   "outputs": [],
   "source": [
    "brooklyn_df = get_and_clean_borough_data(brooklyn_coords, brooklyn_search)\n",
    "manhattan_df =  get_and_clean_borough_data(manhattan_coords, manhattan_search)\n",
    "queens_df = get_and_clean_borough_data(queens_coords, queens_search)\n",
    "bronx_df = get_and_clean_borough_data(bronx_coords, bronx_search)\n",
    "statenisland_df = get_and_clean_borough_data(statenisland_coords, statenisland_search)"
   ]
  },
  {
   "cell_type": "code",
   "execution_count": 116,
   "id": "dd565e99",
   "metadata": {},
   "outputs": [],
   "source": [
    "manhattan_df['borough'] = 'manhattan'\n",
    "bronx_df['borough'] = 'bronx'\n",
    "queens_df['borough'] = 'queens'\n",
    "brooklyn_df['borough'] = 'brooklyn'\n",
    "statenisland_df['borough'] = 'statenisland'"
   ]
  },
  {
   "cell_type": "code",
   "execution_count": 122,
   "id": "2bc29f1f",
   "metadata": {},
   "outputs": [],
   "source": [
    "nyc_df = pd.concat([manhattan_df, queens_df, bronx_df, statenisland_df, brooklyn_df])"
   ]
  },
  {
   "cell_type": "code",
   "execution_count": 124,
   "id": "32ca026e",
   "metadata": {},
   "outputs": [],
   "source": [
    "nyc_df = nyc_df[nyc_df['area'] != 0]"
   ]
  },
  {
   "cell_type": "code",
   "execution_count": 131,
   "id": "c3535c41",
   "metadata": {
    "collapsed": true
   },
   "outputs": [
    {
     "name": "stderr",
     "output_type": "stream",
     "text": [
      "C:\\Users\\brand\\AppData\\Local\\Temp\\ipykernel_20460\\709180886.py:1: SettingWithCopyWarning: \n",
      "A value is trying to be set on a copy of a slice from a DataFrame.\n",
      "Try using .loc[row_indexer,col_indexer] = value instead\n",
      "\n",
      "See the caveats in the documentation: https://pandas.pydata.org/pandas-docs/stable/user_guide/indexing.html#returning-a-view-versus-a-copy\n",
      "  nyc_df['price'] = nyc_df['price'].apply(lambda x: float(x))\n"
     ]
    }
   ],
   "source": [
    "nyc_df['price'] = nyc_df['price'].apply(lambda x: float(x))"
   ]
  },
  {
   "cell_type": "markdown",
   "id": "fd40681d",
   "metadata": {},
   "source": [
    "With the dataframes for each respective borough joined, now we can create histograms to detect outliers in terms of price. "
   ]
  },
  {
   "cell_type": "code",
   "execution_count": 132,
   "id": "93c345bc",
   "metadata": {},
   "outputs": [],
   "source": [
    "hist, bin_edges = np.histogram(nyc_df['price'], 36)"
   ]
  },
  {
   "cell_type": "code",
   "execution_count": 133,
   "id": "f42f0573",
   "metadata": {},
   "outputs": [
    {
     "data": {
      "text/plain": [
       "array([805, 421,  82,  36,  15,   9,   6,   4,   2,   4,   1,   1,   2,\n",
       "         0,   0,   0,   0,   2,   1,   0,   0,   0,   0,   0,   2,   0,\n",
       "         0,   0,   0,   0,   0,   1,   0,   0,   0,   1], dtype=int64)"
      ]
     },
     "execution_count": 133,
     "metadata": {},
     "output_type": "execute_result"
    }
   ],
   "source": [
    "hist"
   ]
  },
  {
   "cell_type": "code",
   "execution_count": 260,
   "id": "43a89626",
   "metadata": {},
   "outputs": [
    {
     "data": {
      "text/plain": [
       "36.02776706930364"
      ]
     },
     "execution_count": 260,
     "metadata": {},
     "output_type": "execute_result"
    }
   ],
   "source": [
    "# Rule of thumb for number of bins in histogram: square root of total number of observations\n",
    "np.sqrt(1298)"
   ]
  },
  {
   "cell_type": "code",
   "execution_count": 261,
   "id": "0b052040",
   "metadata": {},
   "outputs": [
    {
     "data": {
      "text/plain": [
       "array([  120000.        ,   811111.11111111,  1502222.22222222,\n",
       "        2193333.33333333,  2884444.44444444,  3575555.55555556,\n",
       "        4266666.66666667,  4957777.77777778,  5648888.88888889,\n",
       "        6340000.        ,  7031111.11111111,  7722222.22222222,\n",
       "        8413333.33333333,  9104444.44444444,  9795555.55555556,\n",
       "       10486666.66666667, 11177777.77777778, 11868888.88888889,\n",
       "       12560000.        , 13251111.11111111, 13942222.22222222,\n",
       "       14633333.33333333, 15324444.44444444, 16015555.55555556,\n",
       "       16706666.66666667, 17397777.77777778, 18088888.88888889,\n",
       "       18780000.        , 19471111.11111111, 20162222.22222222,\n",
       "       20853333.33333333, 21544444.44444444, 22235555.55555556,\n",
       "       22926666.66666667, 23617777.77777778, 24308888.88888889,\n",
       "       25000000.        ])"
      ]
     },
     "execution_count": 261,
     "metadata": {},
     "output_type": "execute_result"
    }
   ],
   "source": [
    "bin_edges"
   ]
  },
  {
   "cell_type": "code",
   "execution_count": 262,
   "id": "be8a4ada",
   "metadata": {},
   "outputs": [
    {
     "data": {
      "image/png": "[encoded data removed]",
      "text/plain": [
       "<Figure size 640x480 with 1 Axes>"
      ]
     },
     "metadata": {},
     "output_type": "display_data"
    }
   ],
   "source": [
    "n, bins, patches = plt.hist(x=nyc_df['price'], bins=36, color='#0504aa',alpha=0.7, rwidth=0.85)\n",
    "plt.grid(axis='y', alpha=0.75)\n",
    "plt.xlabel('Value',fontsize=15)\n",
    "plt.ylabel('Frequency',fontsize=15)\n",
    "plt.xticks(fontsize=15)\n",
    "plt.yticks(fontsize=15)\n",
    "plt.ylabel('Frequency',fontsize=15)\n",
    "plt.show()\n",
    "\n"
   ]
  },
  {
   "cell_type": "code",
   "execution_count": 263,
   "id": "128c96ce",
   "metadata": {},
   "outputs": [
    {
     "data": {
      "text/plain": [
       "array([ 159000.        ,  210111.11111111,  261222.22222222,\n",
       "        312333.33333333,  363444.44444444,  414555.55555556,\n",
       "        465666.66666667,  516777.77777778,  567888.88888889,\n",
       "        619000.        ,  670111.11111111,  721222.22222222,\n",
       "        772333.33333333,  823444.44444444,  874555.55555556,\n",
       "        925666.66666667,  976777.77777778, 1027888.88888889,\n",
       "       1079000.        , 1130111.11111111, 1181222.22222222,\n",
       "       1232333.33333333, 1283444.44444444, 1334555.55555556,\n",
       "       1385666.66666667, 1436777.77777778, 1487888.88888889,\n",
       "       1539000.        , 1590111.11111111, 1641222.22222222,\n",
       "       1692333.33333333, 1743444.44444444, 1794555.55555556,\n",
       "       1845666.66666667, 1896777.77777778, 1947888.88888889,\n",
       "       1999000.        ])"
      ]
     },
     "execution_count": 263,
     "metadata": {},
     "output_type": "execute_result"
    }
   ],
   "source": [
    "bins"
   ]
  },
  {
   "cell_type": "code",
   "execution_count": 264,
   "id": "8192500f",
   "metadata": {},
   "outputs": [
    {
     "data": {
      "text/plain": [
       "(array([  5.,  26.,  40.,  43.,  73., 114., 119., 101., 165., 112., 100.,\n",
       "         43.,  68.,  12.,  24.,  51.,  29.,  36.,  32.,  11.,  14.,  21.,\n",
       "          3.,  21.,  17.,   4.,  10.,   4.]),\n",
       " array([ 159000.        ,  224714.28571429,  290428.57142857,\n",
       "         356142.85714286,  421857.14285714,  487571.42857143,\n",
       "         553285.71428571,  619000.        ,  684714.28571429,\n",
       "         750428.57142857,  816142.85714286,  881857.14285714,\n",
       "         947571.42857143, 1013285.71428571, 1079000.        ,\n",
       "        1144714.28571429, 1210428.57142857, 1276142.85714286,\n",
       "        1341857.14285714, 1407571.42857143, 1473285.71428571,\n",
       "        1539000.        , 1604714.28571429, 1670428.57142857,\n",
       "        1736142.85714286, 1801857.14285714, 1867571.42857143,\n",
       "        1933285.71428571, 1999000.        ]),\n",
       " <BarContainer object of 28 artists>)"
      ]
     },
     "execution_count": 264,
     "metadata": {},
     "output_type": "execute_result"
    },
    {
     "data": {
      "image/png": "[encoded data removed]",
      "text/plain": [
       "<Figure size 640x480 with 1 Axes>"
      ]
     },
     "metadata": {},
     "output_type": "display_data"
    }
   ],
   "source": [
    "plt.hist(x=nyc_df[nyc_df[\"price\"] < 2000000][\"price\"], bins=28, color='#0504aa',alpha=0.7, rwidth=0.85)"
   ]
  },
  {
   "cell_type": "code",
   "execution_count": 139,
   "id": "8c868c95",
   "metadata": {},
   "outputs": [
    {
     "data": {
      "text/plain": [
       "1307"
      ]
     },
     "execution_count": 139,
     "metadata": {},
     "output_type": "execute_result"
    }
   ],
   "source": [
    "len(nyc_df[nyc_df[\"price\"] < 2000000])"
   ]
  },
  {
   "cell_type": "code",
   "execution_count": 141,
   "id": "caa78b44",
   "metadata": {},
   "outputs": [],
   "source": [
    "# Cleaned dataset with outliers removed\n",
    "\n",
    "nyc_df = nyc_df[nyc_df['price'] < 2000000]"
   ]
  },
  {
   "cell_type": "code",
   "execution_count": 143,
   "id": "a2b3a704",
   "metadata": {
    "scrolled": true
   },
   "outputs": [
    {
     "data": {
      "text/plain": [
       "1307"
      ]
     },
     "execution_count": 143,
     "metadata": {},
     "output_type": "execute_result"
    }
   ],
   "source": [
    "len(nyc_df)"
   ]
  },
  {
   "cell_type": "code",
   "execution_count": 144,
   "id": "67adbbf0",
   "metadata": {},
   "outputs": [
    {
     "data": {
      "text/plain": [
       "(array([  2.,  16.,  24.,  47.,  62.,  89., 117., 133., 107., 156., 134.,\n",
       "         60.,  46.,  35.,  26.,  16.,  58.,  42.,  26.,  17.,  14.,  15.,\n",
       "          7.,  23.,  16.,   5.,  10.,   4.]),\n",
       " array([ 120000.        ,  187107.14285714,  254214.28571429,\n",
       "         321321.42857143,  388428.57142857,  455535.71428571,\n",
       "         522642.85714286,  589750.        ,  656857.14285714,\n",
       "         723964.28571429,  791071.42857143,  858178.57142857,\n",
       "         925285.71428571,  992392.85714286, 1059500.        ,\n",
       "        1126607.14285714, 1193714.28571429, 1260821.42857143,\n",
       "        1327928.57142857, 1395035.71428571, 1462142.85714286,\n",
       "        1529250.        , 1596357.14285714, 1663464.28571429,\n",
       "        1730571.42857143, 1797678.57142857, 1864785.71428571,\n",
       "        1931892.85714286, 1999000.        ]),\n",
       " <BarContainer object of 28 artists>)"
      ]
     },
     "execution_count": 144,
     "metadata": {},
     "output_type": "execute_result"
    },
    {
     "data": {
      "image/png": "[encoded data removed]",
      "text/plain": [
       "<Figure size 640x480 with 1 Axes>"
      ]
     },
     "metadata": {},
     "output_type": "display_data"
    }
   ],
   "source": [
    "# Final histogram\n",
    "plt.hist(x=nyc_df[\"price\"], bins=28, color='#0504aa',alpha=0.7, rwidth=0.85)"
   ]
  },
  {
   "cell_type": "code",
   "execution_count": 145,
   "id": "8bd370b1",
   "metadata": {},
   "outputs": [
    {
     "data": {
      "text/plain": [
       "array([ 2,  5,  3,  6,  1,  4,  8,  0, 10,  7,  9, 33, 18, 11],\n",
       "      dtype=int64)"
      ]
     },
     "execution_count": 145,
     "metadata": {},
     "output_type": "execute_result"
    }
   ],
   "source": [
    "nyc_df['beds'].unique()"
   ]
  },
  {
   "cell_type": "code",
   "execution_count": 147,
   "id": "950636c2",
   "metadata": {},
   "outputs": [],
   "source": [
    "nyc_df.to_csv('nyc_df.csv', index=False)"
   ]
  },
  {
   "cell_type": "code",
   "execution_count": 167,
   "id": "b6db5f10",
   "metadata": {},
   "outputs": [],
   "source": [
    "nyc_df = pd.read_csv('nyc_df.csv')"
   ]
  },
  {
   "cell_type": "code",
   "execution_count": 169,
   "id": "ad1a75d3",
   "metadata": {},
   "outputs": [],
   "source": [
    "nyc_df = pd.get_dummies(nyc_df, columns=['borough'], prefix='borough', drop_first=True, dtype=int)"
   ]
  },
  {
   "cell_type": "code",
   "execution_count": 289,
   "id": "3261e4be",
   "metadata": {},
   "outputs": [
    {
     "data": {
      "text/html": [
       "<div>\n",
       "<style scoped>\n",
       "    .dataframe tbody tr th:only-of-type {\n",
       "        vertical-align: middle;\n",
       "    }\n",
       "\n",
       "    .dataframe tbody tr th {\n",
       "        vertical-align: top;\n",
       "    }\n",
       "\n",
       "    .dataframe thead th {\n",
       "        text-align: right;\n",
       "    }\n",
       "</style>\n",
       "<table border=\"1\" class=\"dataframe\">\n",
       "  <thead>\n",
       "    <tr style=\"text-align: right;\">\n",
       "      <th></th>\n",
       "      <th>price</th>\n",
       "      <th>beds</th>\n",
       "      <th>baths</th>\n",
       "      <th>area</th>\n",
       "      <th>borough_brooklyn</th>\n",
       "      <th>borough_manhattan</th>\n",
       "      <th>borough_queens</th>\n",
       "      <th>borough_statenisland</th>\n",
       "    </tr>\n",
       "  </thead>\n",
       "  <tbody>\n",
       "    <tr>\n",
       "      <th>0</th>\n",
       "      <td>505000.0</td>\n",
       "      <td>2</td>\n",
       "      <td>3</td>\n",
       "      <td>1000.0</td>\n",
       "      <td>0</td>\n",
       "      <td>1</td>\n",
       "      <td>0</td>\n",
       "      <td>0</td>\n",
       "    </tr>\n",
       "    <tr>\n",
       "      <th>1</th>\n",
       "      <td>499900.0</td>\n",
       "      <td>5</td>\n",
       "      <td>2</td>\n",
       "      <td>1998.0</td>\n",
       "      <td>0</td>\n",
       "      <td>1</td>\n",
       "      <td>0</td>\n",
       "      <td>0</td>\n",
       "    </tr>\n",
       "    <tr>\n",
       "      <th>2</th>\n",
       "      <td>475000.0</td>\n",
       "      <td>2</td>\n",
       "      <td>1</td>\n",
       "      <td>750.0</td>\n",
       "      <td>0</td>\n",
       "      <td>1</td>\n",
       "      <td>0</td>\n",
       "      <td>0</td>\n",
       "    </tr>\n",
       "    <tr>\n",
       "      <th>3</th>\n",
       "      <td>1388888.0</td>\n",
       "      <td>3</td>\n",
       "      <td>4</td>\n",
       "      <td>2298.0</td>\n",
       "      <td>0</td>\n",
       "      <td>1</td>\n",
       "      <td>0</td>\n",
       "      <td>0</td>\n",
       "    </tr>\n",
       "    <tr>\n",
       "      <th>4</th>\n",
       "      <td>1188000.0</td>\n",
       "      <td>6</td>\n",
       "      <td>6</td>\n",
       "      <td>2550.0</td>\n",
       "      <td>0</td>\n",
       "      <td>1</td>\n",
       "      <td>0</td>\n",
       "      <td>0</td>\n",
       "    </tr>\n",
       "    <tr>\n",
       "      <th>...</th>\n",
       "      <td>...</td>\n",
       "      <td>...</td>\n",
       "      <td>...</td>\n",
       "      <td>...</td>\n",
       "      <td>...</td>\n",
       "      <td>...</td>\n",
       "      <td>...</td>\n",
       "      <td>...</td>\n",
       "    </tr>\n",
       "    <tr>\n",
       "      <th>1302</th>\n",
       "      <td>949800.0</td>\n",
       "      <td>3</td>\n",
       "      <td>3</td>\n",
       "      <td>1966.0</td>\n",
       "      <td>1</td>\n",
       "      <td>0</td>\n",
       "      <td>0</td>\n",
       "      <td>0</td>\n",
       "    </tr>\n",
       "    <tr>\n",
       "      <th>1303</th>\n",
       "      <td>824999.0</td>\n",
       "      <td>7</td>\n",
       "      <td>2</td>\n",
       "      <td>2100.0</td>\n",
       "      <td>1</td>\n",
       "      <td>0</td>\n",
       "      <td>0</td>\n",
       "      <td>0</td>\n",
       "    </tr>\n",
       "    <tr>\n",
       "      <th>1304</th>\n",
       "      <td>919000.0</td>\n",
       "      <td>3</td>\n",
       "      <td>3</td>\n",
       "      <td>1880.0</td>\n",
       "      <td>1</td>\n",
       "      <td>0</td>\n",
       "      <td>0</td>\n",
       "      <td>0</td>\n",
       "    </tr>\n",
       "    <tr>\n",
       "      <th>1305</th>\n",
       "      <td>725000.0</td>\n",
       "      <td>3</td>\n",
       "      <td>2</td>\n",
       "      <td>1430.0</td>\n",
       "      <td>1</td>\n",
       "      <td>0</td>\n",
       "      <td>0</td>\n",
       "      <td>0</td>\n",
       "    </tr>\n",
       "    <tr>\n",
       "      <th>1306</th>\n",
       "      <td>737000.0</td>\n",
       "      <td>3</td>\n",
       "      <td>2</td>\n",
       "      <td>2400.0</td>\n",
       "      <td>1</td>\n",
       "      <td>0</td>\n",
       "      <td>0</td>\n",
       "      <td>0</td>\n",
       "    </tr>\n",
       "  </tbody>\n",
       "</table>\n",
       "<p>1298 rows × 8 columns</p>\n",
       "</div>"
      ],
      "text/plain": [
       "          price  beds  baths    area  borough_brooklyn  borough_manhattan  \\\n",
       "0      505000.0     2      3  1000.0                 0                  1   \n",
       "1      499900.0     5      2  1998.0                 0                  1   \n",
       "2      475000.0     2      1   750.0                 0                  1   \n",
       "3     1388888.0     3      4  2298.0                 0                  1   \n",
       "4     1188000.0     6      6  2550.0                 0                  1   \n",
       "...         ...   ...    ...     ...               ...                ...   \n",
       "1302   949800.0     3      3  1966.0                 1                  0   \n",
       "1303   824999.0     7      2  2100.0                 1                  0   \n",
       "1304   919000.0     3      3  1880.0                 1                  0   \n",
       "1305   725000.0     3      2  1430.0                 1                  0   \n",
       "1306   737000.0     3      2  2400.0                 1                  0   \n",
       "\n",
       "      borough_queens  borough_statenisland  \n",
       "0                  0                     0  \n",
       "1                  0                     0  \n",
       "2                  0                     0  \n",
       "3                  0                     0  \n",
       "4                  0                     0  \n",
       "...              ...                   ...  \n",
       "1302               0                     0  \n",
       "1303               0                     0  \n",
       "1304               0                     0  \n",
       "1305               0                     0  \n",
       "1306               0                     0  \n",
       "\n",
       "[1298 rows x 8 columns]"
      ]
     },
     "execution_count": 289,
     "metadata": {},
     "output_type": "execute_result"
    }
   ],
   "source": [
    "nyc_df"
   ]
  },
  {
   "cell_type": "code",
   "execution_count": 221,
   "id": "b6a160dc",
   "metadata": {},
   "outputs": [],
   "source": [
    "X = nyc_df.drop(columns=['price'])"
   ]
  },
  {
   "cell_type": "code",
   "execution_count": 222,
   "id": "567ce3b3",
   "metadata": {},
   "outputs": [],
   "source": [
    "y = nyc_df['price']"
   ]
  },
  {
   "cell_type": "markdown",
   "id": "f0a69ae4",
   "metadata": {},
   "source": [
    "Further data cleaning: removing properties with abnormally large area. "
   ]
  },
  {
   "cell_type": "code",
   "execution_count": 220,
   "id": "9fb60327",
   "metadata": {},
   "outputs": [],
   "source": [
    "nyc_df = nyc_df[nyc_df['area'] < 50000]"
   ]
  },
  {
   "cell_type": "markdown",
   "id": "084d8d68",
   "metadata": {},
   "source": [
    "Splitting data into training and testing subsets, and building our linear model."
   ]
  },
  {
   "cell_type": "code",
   "execution_count": 223,
   "id": "330d470e",
   "metadata": {},
   "outputs": [],
   "source": [
    "X_train, X_test, y_train, y_test = train_test_split(X, y, test_size=0.20, random_state=42)"
   ]
  },
  {
   "cell_type": "code",
   "execution_count": 224,
   "id": "15e20314",
   "metadata": {},
   "outputs": [],
   "source": [
    "reg = linear_model.LinearRegression().fit(X_train, y_train)"
   ]
  },
  {
   "cell_type": "markdown",
   "id": "78b21b5e",
   "metadata": {},
   "source": [
    "Ensuring the test data set aligns with the cleaned full dataset. "
   ]
  },
  {
   "cell_type": "code",
   "execution_count": 198,
   "id": "01406474",
   "metadata": {},
   "outputs": [],
   "source": [
    "X_test = X_test[X_test['area'] < 50000]"
   ]
  },
  {
   "cell_type": "markdown",
   "id": "2c8a0797",
   "metadata": {},
   "source": [
    "## Visualizations"
   ]
  },
  {
   "cell_type": "code",
   "execution_count": 245,
   "id": "5c302c49",
   "metadata": {},
   "outputs": [
    {
     "data": {
      "text/plain": [
       "<matplotlib.legend.Legend at 0x25931a9b310>"
      ]
     },
     "execution_count": 245,
     "metadata": {},
     "output_type": "execute_result"
    },
    {
     "data": {
      "image/png": "[encoded data removed]",
      "text/plain": [
       "<Figure size 640x480 with 1 Axes>"
      ]
     },
     "metadata": {},
     "output_type": "display_data"
    }
   ],
   "source": [
    "plt.title(\"Actual and predicted values by area\")\n",
    "plt.scatter(X_test['area'], y_test, label='actual')\n",
    "plt.scatter(X_test['area'], reg.predict(X_test), label='predicted')\n",
    "plt.legend()"
   ]
  },
  {
   "cell_type": "code",
   "execution_count": 246,
   "id": "ddfa8bc1",
   "metadata": {},
   "outputs": [
    {
     "data": {
      "text/plain": [
       "<matplotlib.legend.Legend at 0x2593a149f30>"
      ]
     },
     "execution_count": 246,
     "metadata": {},
     "output_type": "execute_result"
    },
    {
     "data": {
      "image/png": "[encoded data removed]",
      "text/plain": [
       "<Figure size 640x480 with 1 Axes>"
      ]
     },
     "metadata": {},
     "output_type": "display_data"
    }
   ],
   "source": [
    "plt.title(\"Actual and predicted values by bedrooms\")\n",
    "plt.scatter(X_test['beds'], y_test, label='actual')\n",
    "plt.scatter(X_test['beds'], reg.predict(X_test), label='predicted')\n",
    "plt.legend()"
   ]
  },
  {
   "cell_type": "code",
   "execution_count": 248,
   "id": "68547b14",
   "metadata": {},
   "outputs": [
    {
     "data": {
      "text/plain": [
       "<matplotlib.legend.Legend at 0x2593693e860>"
      ]
     },
     "execution_count": 248,
     "metadata": {},
     "output_type": "execute_result"
    },
    {
     "data": {
      "image/png": "[encoded data removed]",
      "text/plain": [
       "<Figure size 640x480 with 1 Axes>"
      ]
     },
     "metadata": {},
     "output_type": "display_data"
    }
   ],
   "source": [
    "plt.title(\"Actual and predicted values by bathrooms\")\n",
    "plt.scatter(X_test['baths'], y_test, label='actual')\n",
    "plt.scatter(X_test['baths'], reg.predict(X_test), label='predicted')\n",
    "plt.legend()"
   ]
  },
  {
   "cell_type": "code",
   "execution_count": 252,
   "id": "c60799bd",
   "metadata": {},
   "outputs": [
    {
     "data": {
      "text/plain": [
       "<matplotlib.legend.Legend at 0x25939923970>"
      ]
     },
     "execution_count": 252,
     "metadata": {},
     "output_type": "execute_result"
    },
    {
     "data": {
      "image/png": "[encoded data removed]",
      "text/plain": [
       "<Figure size 640x480 with 1 Axes>"
      ]
     },
     "metadata": {},
     "output_type": "display_data"
    }
   ],
   "source": [
    "plt.title('Actual and predicted values by properties in and not in Manhattan')\n",
    "plt.scatter(X_test['borough_manhattan'], y_test, label='actual')\n",
    "plt.scatter(X_test['borough_manhattan'], reg.predict(X_test), label='predicted')\n",
    "plt.legend()"
   ]
  },
  {
   "cell_type": "markdown",
   "id": "05cdb946",
   "metadata": {},
   "source": [
    "The model yields an R-squared value of just over 45%."
   ]
  },
  {
   "cell_type": "code",
   "execution_count": 256,
   "id": "e1e76f13",
   "metadata": {},
   "outputs": [
    {
     "name": "stdout",
     "output_type": "stream",
     "text": [
      "0.4524562652910473\n"
     ]
    }
   ],
   "source": [
    "print(r2_score(y_test, reg.predict(X_test)))"
   ]
  },
  {
   "cell_type": "markdown",
   "id": "2aae5b55",
   "metadata": {},
   "source": [
    "We can now use the model to determine the expected price of a particular property. Consider several specific properties chosen at random from the test dataset:"
   ]
  },
  {
   "cell_type": "code",
   "execution_count": 270,
   "id": "b4fe01fa",
   "metadata": {},
   "outputs": [],
   "source": [
    "prediction_data = X_test.sample(n=10)\n"
   ]
  },
  {
   "cell_type": "code",
   "execution_count": 274,
   "id": "5dafdd52",
   "metadata": {},
   "outputs": [
    {
     "data": {
      "text/html": [
       "<div>\n",
       "<style scoped>\n",
       "    .dataframe tbody tr th:only-of-type {\n",
       "        vertical-align: middle;\n",
       "    }\n",
       "\n",
       "    .dataframe tbody tr th {\n",
       "        vertical-align: top;\n",
       "    }\n",
       "\n",
       "    .dataframe thead th {\n",
       "        text-align: right;\n",
       "    }\n",
       "</style>\n",
       "<table border=\"1\" class=\"dataframe\">\n",
       "  <thead>\n",
       "    <tr style=\"text-align: right;\">\n",
       "      <th></th>\n",
       "      <th>beds</th>\n",
       "      <th>baths</th>\n",
       "      <th>area</th>\n",
       "      <th>borough_brooklyn</th>\n",
       "      <th>borough_manhattan</th>\n",
       "      <th>borough_queens</th>\n",
       "      <th>borough_statenisland</th>\n",
       "    </tr>\n",
       "  </thead>\n",
       "  <tbody>\n",
       "    <tr>\n",
       "      <th>1015</th>\n",
       "      <td>3</td>\n",
       "      <td>2</td>\n",
       "      <td>1380.0</td>\n",
       "      <td>1</td>\n",
       "      <td>0</td>\n",
       "      <td>0</td>\n",
       "      <td>0</td>\n",
       "    </tr>\n",
       "    <tr>\n",
       "      <th>1016</th>\n",
       "      <td>4</td>\n",
       "      <td>4</td>\n",
       "      <td>3225.0</td>\n",
       "      <td>1</td>\n",
       "      <td>0</td>\n",
       "      <td>0</td>\n",
       "      <td>0</td>\n",
       "    </tr>\n",
       "    <tr>\n",
       "      <th>604</th>\n",
       "      <td>5</td>\n",
       "      <td>4</td>\n",
       "      <td>2288.0</td>\n",
       "      <td>0</td>\n",
       "      <td>0</td>\n",
       "      <td>0</td>\n",
       "      <td>1</td>\n",
       "    </tr>\n",
       "    <tr>\n",
       "      <th>1173</th>\n",
       "      <td>3</td>\n",
       "      <td>2</td>\n",
       "      <td>1312.0</td>\n",
       "      <td>1</td>\n",
       "      <td>0</td>\n",
       "      <td>0</td>\n",
       "      <td>0</td>\n",
       "    </tr>\n",
       "    <tr>\n",
       "      <th>732</th>\n",
       "      <td>3</td>\n",
       "      <td>3</td>\n",
       "      <td>1827.0</td>\n",
       "      <td>0</td>\n",
       "      <td>0</td>\n",
       "      <td>0</td>\n",
       "      <td>1</td>\n",
       "    </tr>\n",
       "    <tr>\n",
       "      <th>357</th>\n",
       "      <td>3</td>\n",
       "      <td>1</td>\n",
       "      <td>1316.0</td>\n",
       "      <td>0</td>\n",
       "      <td>0</td>\n",
       "      <td>0</td>\n",
       "      <td>0</td>\n",
       "    </tr>\n",
       "    <tr>\n",
       "      <th>30</th>\n",
       "      <td>2</td>\n",
       "      <td>2</td>\n",
       "      <td>2242.0</td>\n",
       "      <td>0</td>\n",
       "      <td>1</td>\n",
       "      <td>0</td>\n",
       "      <td>0</td>\n",
       "    </tr>\n",
       "    <tr>\n",
       "      <th>53</th>\n",
       "      <td>4</td>\n",
       "      <td>4</td>\n",
       "      <td>1813.0</td>\n",
       "      <td>0</td>\n",
       "      <td>1</td>\n",
       "      <td>0</td>\n",
       "      <td>0</td>\n",
       "    </tr>\n",
       "    <tr>\n",
       "      <th>634</th>\n",
       "      <td>3</td>\n",
       "      <td>2</td>\n",
       "      <td>816.0</td>\n",
       "      <td>0</td>\n",
       "      <td>0</td>\n",
       "      <td>0</td>\n",
       "      <td>1</td>\n",
       "    </tr>\n",
       "    <tr>\n",
       "      <th>1116</th>\n",
       "      <td>3</td>\n",
       "      <td>2</td>\n",
       "      <td>1936.0</td>\n",
       "      <td>1</td>\n",
       "      <td>0</td>\n",
       "      <td>0</td>\n",
       "      <td>0</td>\n",
       "    </tr>\n",
       "  </tbody>\n",
       "</table>\n",
       "</div>"
      ],
      "text/plain": [
       "      beds  baths    area  borough_brooklyn  borough_manhattan  \\\n",
       "1015     3      2  1380.0                 1                  0   \n",
       "1016     4      4  3225.0                 1                  0   \n",
       "604      5      4  2288.0                 0                  0   \n",
       "1173     3      2  1312.0                 1                  0   \n",
       "732      3      3  1827.0                 0                  0   \n",
       "357      3      1  1316.0                 0                  0   \n",
       "30       2      2  2242.0                 0                  1   \n",
       "53       4      4  1813.0                 0                  1   \n",
       "634      3      2   816.0                 0                  0   \n",
       "1116     3      2  1936.0                 1                  0   \n",
       "\n",
       "      borough_queens  borough_statenisland  \n",
       "1015               0                     0  \n",
       "1016               0                     0  \n",
       "604                0                     1  \n",
       "1173               0                     0  \n",
       "732                0                     1  \n",
       "357                0                     0  \n",
       "30                 0                     0  \n",
       "53                 0                     0  \n",
       "634                0                     1  \n",
       "1116               0                     0  "
      ]
     },
     "execution_count": 274,
     "metadata": {},
     "output_type": "execute_result"
    }
   ],
   "source": [
    "prediction_data"
   ]
  },
  {
   "cell_type": "code",
   "execution_count": 275,
   "id": "a7c660de",
   "metadata": {},
   "outputs": [],
   "source": [
    "predicted_values = reg.predict(prediction_data)"
   ]
  },
  {
   "cell_type": "code",
   "execution_count": 277,
   "id": "8f3edfd6",
   "metadata": {},
   "outputs": [],
   "source": [
    "prediction_data['predicted'] = predicted_values"
   ]
  },
  {
   "cell_type": "markdown",
   "id": "68c2003f",
   "metadata": {},
   "source": [
    "Below are the predicted prices for each property. We will now add these predicted prices to our prediction dataframe, and add the actual price by joining with the full dataframe."
   ]
  },
  {
   "cell_type": "code",
   "execution_count": 279,
   "id": "1853c744",
   "metadata": {},
   "outputs": [
    {
     "data": {
      "text/plain": [
       "array([ 635529.09900812, 1195573.89923897,  992588.82172957,\n",
       "        621228.08293447,  820224.00825766,  669892.12740905,\n",
       "        877418.87303218,  952154.23403773,  518055.93784163,\n",
       "        752460.93631617])"
      ]
     },
     "execution_count": 279,
     "metadata": {},
     "output_type": "execute_result"
    }
   ],
   "source": [
    "predicted_values"
   ]
  },
  {
   "cell_type": "code",
   "execution_count": 280,
   "id": "87d9129a",
   "metadata": {},
   "outputs": [],
   "source": [
    "prediction_data['predicted'] = prediction_data['predicted'].apply(lambda x: int(x))"
   ]
  },
  {
   "cell_type": "code",
   "execution_count": 285,
   "id": "f8b1e9d3",
   "metadata": {},
   "outputs": [
    {
     "data": {
      "text/html": [
       "<div>\n",
       "<style scoped>\n",
       "    .dataframe tbody tr th:only-of-type {\n",
       "        vertical-align: middle;\n",
       "    }\n",
       "\n",
       "    .dataframe tbody tr th {\n",
       "        vertical-align: top;\n",
       "    }\n",
       "\n",
       "    .dataframe thead th {\n",
       "        text-align: right;\n",
       "    }\n",
       "</style>\n",
       "<table border=\"1\" class=\"dataframe\">\n",
       "  <thead>\n",
       "    <tr style=\"text-align: right;\">\n",
       "      <th></th>\n",
       "      <th>beds</th>\n",
       "      <th>baths</th>\n",
       "      <th>area</th>\n",
       "      <th>borough_brooklyn</th>\n",
       "      <th>borough_manhattan</th>\n",
       "      <th>borough_queens</th>\n",
       "      <th>borough_statenisland</th>\n",
       "      <th>predicted</th>\n",
       "    </tr>\n",
       "  </thead>\n",
       "  <tbody>\n",
       "    <tr>\n",
       "      <th>1015</th>\n",
       "      <td>3</td>\n",
       "      <td>2</td>\n",
       "      <td>1380.0</td>\n",
       "      <td>1</td>\n",
       "      <td>0</td>\n",
       "      <td>0</td>\n",
       "      <td>0</td>\n",
       "      <td>635529</td>\n",
       "    </tr>\n",
       "    <tr>\n",
       "      <th>1016</th>\n",
       "      <td>4</td>\n",
       "      <td>4</td>\n",
       "      <td>3225.0</td>\n",
       "      <td>1</td>\n",
       "      <td>0</td>\n",
       "      <td>0</td>\n",
       "      <td>0</td>\n",
       "      <td>1195573</td>\n",
       "    </tr>\n",
       "    <tr>\n",
       "      <th>604</th>\n",
       "      <td>5</td>\n",
       "      <td>4</td>\n",
       "      <td>2288.0</td>\n",
       "      <td>0</td>\n",
       "      <td>0</td>\n",
       "      <td>0</td>\n",
       "      <td>1</td>\n",
       "      <td>992588</td>\n",
       "    </tr>\n",
       "    <tr>\n",
       "      <th>1173</th>\n",
       "      <td>3</td>\n",
       "      <td>2</td>\n",
       "      <td>1312.0</td>\n",
       "      <td>1</td>\n",
       "      <td>0</td>\n",
       "      <td>0</td>\n",
       "      <td>0</td>\n",
       "      <td>621228</td>\n",
       "    </tr>\n",
       "    <tr>\n",
       "      <th>732</th>\n",
       "      <td>3</td>\n",
       "      <td>3</td>\n",
       "      <td>1827.0</td>\n",
       "      <td>0</td>\n",
       "      <td>0</td>\n",
       "      <td>0</td>\n",
       "      <td>1</td>\n",
       "      <td>820224</td>\n",
       "    </tr>\n",
       "    <tr>\n",
       "      <th>357</th>\n",
       "      <td>3</td>\n",
       "      <td>1</td>\n",
       "      <td>1316.0</td>\n",
       "      <td>0</td>\n",
       "      <td>0</td>\n",
       "      <td>0</td>\n",
       "      <td>0</td>\n",
       "      <td>669892</td>\n",
       "    </tr>\n",
       "    <tr>\n",
       "      <th>30</th>\n",
       "      <td>2</td>\n",
       "      <td>2</td>\n",
       "      <td>2242.0</td>\n",
       "      <td>0</td>\n",
       "      <td>1</td>\n",
       "      <td>0</td>\n",
       "      <td>0</td>\n",
       "      <td>877418</td>\n",
       "    </tr>\n",
       "    <tr>\n",
       "      <th>53</th>\n",
       "      <td>4</td>\n",
       "      <td>4</td>\n",
       "      <td>1813.0</td>\n",
       "      <td>0</td>\n",
       "      <td>1</td>\n",
       "      <td>0</td>\n",
       "      <td>0</td>\n",
       "      <td>952154</td>\n",
       "    </tr>\n",
       "    <tr>\n",
       "      <th>634</th>\n",
       "      <td>3</td>\n",
       "      <td>2</td>\n",
       "      <td>816.0</td>\n",
       "      <td>0</td>\n",
       "      <td>0</td>\n",
       "      <td>0</td>\n",
       "      <td>1</td>\n",
       "      <td>518055</td>\n",
       "    </tr>\n",
       "    <tr>\n",
       "      <th>1116</th>\n",
       "      <td>3</td>\n",
       "      <td>2</td>\n",
       "      <td>1936.0</td>\n",
       "      <td>1</td>\n",
       "      <td>0</td>\n",
       "      <td>0</td>\n",
       "      <td>0</td>\n",
       "      <td>752460</td>\n",
       "    </tr>\n",
       "  </tbody>\n",
       "</table>\n",
       "</div>"
      ],
      "text/plain": [
       "      beds  baths    area  borough_brooklyn  borough_manhattan  \\\n",
       "1015     3      2  1380.0                 1                  0   \n",
       "1016     4      4  3225.0                 1                  0   \n",
       "604      5      4  2288.0                 0                  0   \n",
       "1173     3      2  1312.0                 1                  0   \n",
       "732      3      3  1827.0                 0                  0   \n",
       "357      3      1  1316.0                 0                  0   \n",
       "30       2      2  2242.0                 0                  1   \n",
       "53       4      4  1813.0                 0                  1   \n",
       "634      3      2   816.0                 0                  0   \n",
       "1116     3      2  1936.0                 1                  0   \n",
       "\n",
       "      borough_queens  borough_statenisland  predicted  \n",
       "1015               0                     0     635529  \n",
       "1016               0                     0    1195573  \n",
       "604                0                     1     992588  \n",
       "1173               0                     0     621228  \n",
       "732                0                     1     820224  \n",
       "357                0                     0     669892  \n",
       "30                 0                     0     877418  \n",
       "53                 0                     0     952154  \n",
       "634                0                     1     518055  \n",
       "1116               0                     0     752460  "
      ]
     },
     "execution_count": 285,
     "metadata": {},
     "output_type": "execute_result"
    }
   ],
   "source": [
    "prediction_data"
   ]
  },
  {
   "cell_type": "code",
   "execution_count": 290,
   "id": "8304b8bf",
   "metadata": {},
   "outputs": [
    {
     "data": {
      "text/html": [
       "<div>\n",
       "<style scoped>\n",
       "    .dataframe tbody tr th:only-of-type {\n",
       "        vertical-align: middle;\n",
       "    }\n",
       "\n",
       "    .dataframe tbody tr th {\n",
       "        vertical-align: top;\n",
       "    }\n",
       "\n",
       "    .dataframe thead th {\n",
       "        text-align: right;\n",
       "    }\n",
       "</style>\n",
       "<table border=\"1\" class=\"dataframe\">\n",
       "  <thead>\n",
       "    <tr style=\"text-align: right;\">\n",
       "      <th></th>\n",
       "      <th>beds</th>\n",
       "      <th>baths</th>\n",
       "      <th>area</th>\n",
       "      <th>borough_brooklyn</th>\n",
       "      <th>borough_manhattan</th>\n",
       "      <th>borough_queens</th>\n",
       "      <th>borough_statenisland</th>\n",
       "      <th>predicted</th>\n",
       "      <th>price</th>\n",
       "    </tr>\n",
       "  </thead>\n",
       "  <tbody>\n",
       "    <tr>\n",
       "      <th>0</th>\n",
       "      <td>3</td>\n",
       "      <td>2</td>\n",
       "      <td>1380.0</td>\n",
       "      <td>1</td>\n",
       "      <td>0</td>\n",
       "      <td>0</td>\n",
       "      <td>0</td>\n",
       "      <td>635529</td>\n",
       "      <td>459000.0</td>\n",
       "    </tr>\n",
       "    <tr>\n",
       "      <th>1</th>\n",
       "      <td>4</td>\n",
       "      <td>4</td>\n",
       "      <td>3225.0</td>\n",
       "      <td>1</td>\n",
       "      <td>0</td>\n",
       "      <td>0</td>\n",
       "      <td>0</td>\n",
       "      <td>1195573</td>\n",
       "      <td>1899000.0</td>\n",
       "    </tr>\n",
       "    <tr>\n",
       "      <th>2</th>\n",
       "      <td>5</td>\n",
       "      <td>4</td>\n",
       "      <td>2288.0</td>\n",
       "      <td>0</td>\n",
       "      <td>0</td>\n",
       "      <td>0</td>\n",
       "      <td>1</td>\n",
       "      <td>992588</td>\n",
       "      <td>799999.0</td>\n",
       "    </tr>\n",
       "    <tr>\n",
       "      <th>3</th>\n",
       "      <td>5</td>\n",
       "      <td>4</td>\n",
       "      <td>2288.0</td>\n",
       "      <td>0</td>\n",
       "      <td>0</td>\n",
       "      <td>0</td>\n",
       "      <td>1</td>\n",
       "      <td>992588</td>\n",
       "      <td>799999.0</td>\n",
       "    </tr>\n",
       "    <tr>\n",
       "      <th>4</th>\n",
       "      <td>3</td>\n",
       "      <td>2</td>\n",
       "      <td>1312.0</td>\n",
       "      <td>1</td>\n",
       "      <td>0</td>\n",
       "      <td>0</td>\n",
       "      <td>0</td>\n",
       "      <td>621228</td>\n",
       "      <td>539000.0</td>\n",
       "    </tr>\n",
       "    <tr>\n",
       "      <th>5</th>\n",
       "      <td>3</td>\n",
       "      <td>3</td>\n",
       "      <td>1827.0</td>\n",
       "      <td>0</td>\n",
       "      <td>0</td>\n",
       "      <td>0</td>\n",
       "      <td>1</td>\n",
       "      <td>820224</td>\n",
       "      <td>539000.0</td>\n",
       "    </tr>\n",
       "    <tr>\n",
       "      <th>6</th>\n",
       "      <td>3</td>\n",
       "      <td>1</td>\n",
       "      <td>1316.0</td>\n",
       "      <td>0</td>\n",
       "      <td>0</td>\n",
       "      <td>0</td>\n",
       "      <td>0</td>\n",
       "      <td>669892</td>\n",
       "      <td>675000.0</td>\n",
       "    </tr>\n",
       "    <tr>\n",
       "      <th>7</th>\n",
       "      <td>2</td>\n",
       "      <td>2</td>\n",
       "      <td>2242.0</td>\n",
       "      <td>0</td>\n",
       "      <td>1</td>\n",
       "      <td>0</td>\n",
       "      <td>0</td>\n",
       "      <td>877418</td>\n",
       "      <td>750000.0</td>\n",
       "    </tr>\n",
       "    <tr>\n",
       "      <th>8</th>\n",
       "      <td>4</td>\n",
       "      <td>4</td>\n",
       "      <td>1813.0</td>\n",
       "      <td>0</td>\n",
       "      <td>1</td>\n",
       "      <td>0</td>\n",
       "      <td>0</td>\n",
       "      <td>952154</td>\n",
       "      <td>799000.0</td>\n",
       "    </tr>\n",
       "    <tr>\n",
       "      <th>9</th>\n",
       "      <td>3</td>\n",
       "      <td>2</td>\n",
       "      <td>816.0</td>\n",
       "      <td>0</td>\n",
       "      <td>0</td>\n",
       "      <td>0</td>\n",
       "      <td>1</td>\n",
       "      <td>518055</td>\n",
       "      <td>750000.0</td>\n",
       "    </tr>\n",
       "    <tr>\n",
       "      <th>10</th>\n",
       "      <td>3</td>\n",
       "      <td>2</td>\n",
       "      <td>1936.0</td>\n",
       "      <td>1</td>\n",
       "      <td>0</td>\n",
       "      <td>0</td>\n",
       "      <td>0</td>\n",
       "      <td>752460</td>\n",
       "      <td>529000.0</td>\n",
       "    </tr>\n",
       "  </tbody>\n",
       "</table>\n",
       "</div>"
      ],
      "text/plain": [
       "    beds  baths    area  borough_brooklyn  borough_manhattan  borough_queens  \\\n",
       "0      3      2  1380.0                 1                  0               0   \n",
       "1      4      4  3225.0                 1                  0               0   \n",
       "2      5      4  2288.0                 0                  0               0   \n",
       "3      5      4  2288.0                 0                  0               0   \n",
       "4      3      2  1312.0                 1                  0               0   \n",
       "5      3      3  1827.0                 0                  0               0   \n",
       "6      3      1  1316.0                 0                  0               0   \n",
       "7      2      2  2242.0                 0                  1               0   \n",
       "8      4      4  1813.0                 0                  1               0   \n",
       "9      3      2   816.0                 0                  0               0   \n",
       "10     3      2  1936.0                 1                  0               0   \n",
       "\n",
       "    borough_statenisland  predicted      price  \n",
       "0                      0     635529   459000.0  \n",
       "1                      0    1195573  1899000.0  \n",
       "2                      1     992588   799999.0  \n",
       "3                      1     992588   799999.0  \n",
       "4                      0     621228   539000.0  \n",
       "5                      1     820224   539000.0  \n",
       "6                      0     669892   675000.0  \n",
       "7                      0     877418   750000.0  \n",
       "8                      0     952154   799000.0  \n",
       "9                      1     518055   750000.0  \n",
       "10                     0     752460   529000.0  "
      ]
     },
     "execution_count": 290,
     "metadata": {},
     "output_type": "execute_result"
    }
   ],
   "source": [
    "prediction_data.merge(nyc_df, how='left')"
   ]
  },
  {
   "cell_type": "markdown",
   "id": "f950aee3",
   "metadata": {},
   "source": [
    "Now it is easy to compare the predicted and actual prices for these properties. From this dataframe we can determine which properties are undervalued or overvalued. "
   ]
  }
 ],
 "metadata": {
  "kernelspec": {
   "display_name": "Python 3 (ipykernel)",
   "language": "python",
   "name": "python3"
  },
  "language_info": {
   "codemirror_mode": {
    "name": "ipython",
    "version": 3
   },
   "file_extension": ".py",
   "mimetype": "text/x-python",
   "name": "python",
   "nbconvert_exporter": "python",
   "pygments_lexer": "ipython3",
   "version": "3.10.11"
  }
 },
 "nbformat": 4,
 "nbformat_minor": 5
}
