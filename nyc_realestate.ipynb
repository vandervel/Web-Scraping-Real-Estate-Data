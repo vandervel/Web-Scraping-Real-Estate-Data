{
 "cells": [
  {
   "cell_type": "markdown",
   "id": "d24eede5",
   "metadata": {},
   "source": [
    "## Using a linear model to predict real estate prices\n",
    "Michael Vandervelden, 2023"
   ]
  },
  {
   "cell_type": "code",
   "execution_count": 2,
   "id": "e7c10b61",
   "metadata": {},
   "outputs": [],
   "source": [
    "# Import requisite libraries\n",
    "\n",
    "import asyncio\n",
    "from typing import List\n",
    "import httpx\n",
    "import json\n",
    "import pandas as pd\n",
    "import re\n",
    "import matplotlib.pyplot as plt\n",
    "import numpy as np\n",
    "from sklearn import linear_model\n",
    "from sklearn.model_selection import train_test_split\n",
    "from sklearn.preprocessing import LabelEncoder\n",
    "from sklearn.metrics import r2_score\n",
    "from urllib.parse import urlencode\n",
    "\n",
    "from parsel import Selector\n",
    "pd.set_option('display.max_rows', 50)"
   ]
  },
  {
   "cell_type": "code",
   "execution_count": 12,
   "id": "339c74e0",
   "metadata": {},
   "outputs": [],
   "source": [
    "client = httpx.AsyncClient(\n",
    "    http2=True,\n",
    "    headers={\n",
    "        \"accept-language\": \"en-US,en;q=0.9\",\n",
    "        \"user-agent\": \"Mozilla/5.0 (Windows NT 10.0; Win64; x64) AppleWebKit/537.36 (KHTML, like Gecko) Chrome/96.0.4664.110 Safari/537.36\",\n",
    "        \"accept\": \"text/html,application/xhtml+xml,application/xml;q=0.9,image/webp,image/apng,*/*;q=0.8\",\n",
    "        \"accept-language\": \"en-US;en;q=0.9\",\n",
    "        \"accept-encoding\": \"gzip, deflate, br\",\n",
    "    },\n",
    ")"
   ]
  },
  {
   "cell_type": "markdown",
   "id": "8fec80e1",
   "metadata": {},
   "source": [
    "Here we store the latitude and longitude values for each borough, as well as the search term strings needed for each borough. These will later be passed as parameters to the scraping/data cleaning function defined below. "
   ]
  },
  {
   "cell_type": "code",
   "execution_count": 106,
   "id": "debca361",
   "metadata": {},
   "outputs": [],
   "source": [
    "brooklyn_coords = {\"west\":-74.28887284228514,\"east\":-74.01902115771483,\"south\":40.49361654444022,\"north\":40.65112924425314,}\n",
    "bronx_coords = {\"west\":-74.2075666845703, \"east\":-73.66786331542967, \"south\":40.49753808454121,\"north\":40.812174096474955,}\n",
    "manhattan_coords = {\"west\":-74.24867418457029, \"east\":-73.70897081542967,\"south\":40.62357275516118,\"north\":40.93761504703568,}\n",
    "statenisland_coords = {\"west\":-74.255641,\"east\":-74.052253,\"south\":40.495865,\"north\":40.648886,}\n",
    "queens_coords =  {\"west\":-73.962632,\"east\":-73.700272,\"south\":40.541722,\"north\":40.80071,}\n",
    "\n",
    "\n",
    "\n",
    "brooklyn_search = \"Brookyln NY New New York\"\n",
    "bronx_search = \"Bronx NY New York\"\n",
    "manhattan_search = \"Manhattan NY New York\"\n",
    "statenisland_search = \"Staten Island NY New York\"\n",
    "queens_search = \"Queens NY New York\""
   ]
  },
  {
   "cell_type": "markdown",
   "id": "68a7019e",
   "metadata": {},
   "source": [
    "Function to scrape and perform initial cleaning of Zillow data depending for each New York City borough "
   ]
  },
  {
   "cell_type": "code",
   "execution_count": 107,
   "id": "95440edb",
   "metadata": {},
   "outputs": [],
   "source": [
    "def get_and_clean_borough_data(location_dict, location_name):\n",
    "    BASE_HEADERS = {\n",
    "\n",
    "        \"accept-language\": \"en-US,en;q=0.9\",\n",
    "        \"user-agent\": \"Mozilla/5.0 (Windows NT 10.0; Win64; x64) AppleWebKit/537.36 (KHTML, like Gecko) Chrome/96.0.4664.110 Safari/537.36\",\n",
    "        \"accept\": \"text/html,application/xhtml+xml,application/xml;q=0.9,image/webp,image/apng,*/*;q=0.8\",\n",
    "        \"accept-language\": \"en-US;en;q=0.9\",\n",
    "        \"accept-encoding\": \"gzip, deflate, br\",\n",
    "    }\n",
    "\n",
    "    url = \"https://www.zillow.com/search/GetSearchPageState.htm?\"\n",
    "\n",
    "\n",
    "\n",
    "    # Search parameters\n",
    "    parameters = {\n",
    "        \"searchQueryState\": {\n",
    "            \"pagination\": {},\n",
    "            \"usersSearchTerm\": location_name,\n",
    "            \n",
    "            \"mapBounds\": location_dict,\n",
    "\n",
    "        },\n",
    "        \"wants\": {\n",
    "            \"cat1\": [\"listResults\", \"mapResults\"], \"cat2\": [\"total\"]\n",
    "        },\n",
    "        \"requestId\": 2,\n",
    "    }\n",
    "    response = httpx.get(url + urlencode(parameters), headers=BASE_HEADERS)\n",
    "    assert response.status_code == 200, \"request has been blocked\"\n",
    "    data = response.json()\n",
    "    results = response.json()[\"cat1\"][\"searchResults\"][\"mapResults\"]\n",
    "    data_list = json.dumps(results, indent=2)\n",
    "    df = pd.read_json(data_list)\n",
    "    \n",
    "    borough_df = df.drop(df.iloc[:, 7:], axis=1)\n",
    "    \n",
    "    \n",
    "    borough_df = borough_df.drop(columns=['zpid', 'rentalMarketingSubType','priceLabel'])\n",
    "        \n",
    "    \n",
    "    borough_df = borough_df.dropna()\n",
    "    \n",
    "    borough_df['price'] = borough_df['price'].apply(lambda x: re.sub('[$,KFrom]', '', x))\n",
    "    borough_df['beds'] = borough_df['beds'].apply(lambda x: int(x))\n",
    "    borough_df['baths'] = borough_df['baths'].apply(lambda x: int(x))\n",
    "    \n",
    "\n",
    "    return borough_df\n",
    "        "
   ]
  },
  {
   "cell_type": "markdown",
   "id": "fc102b9b",
   "metadata": {},
   "source": [
    "Creating a dataframe for each borough. These will be concatenated later."
   ]
  },
  {
   "cell_type": "code",
   "execution_count": 115,
   "id": "d2153def",
   "metadata": {},
   "outputs": [],
   "source": [
    "brooklyn_df = get_and_clean_borough_data(brooklyn_coords, brooklyn_search)\n",
    "manhattan_df =  get_and_clean_borough_data(manhattan_coords, manhattan_search)\n",
    "queens_df = get_and_clean_borough_data(queens_coords, queens_search)\n",
    "bronx_df = get_and_clean_borough_data(bronx_coords, bronx_search)\n",
    "statenisland_df = get_and_clean_borough_data(statenisland_coords, statenisland_search)"
   ]
  },
  {
   "cell_type": "code",
   "execution_count": 116,
   "id": "dd565e99",
   "metadata": {},
   "outputs": [],
   "source": [
    "manhattan_df['borough'] = 'manhattan'\n",
    "bronx_df['borough'] = 'bronx'\n",
    "queens_df['borough'] = 'queens'\n",
    "brooklyn_df['borough'] = 'brooklyn'\n",
    "statenisland_df['borough'] = 'statenisland'"
   ]
  },
  {
   "cell_type": "code",
   "execution_count": 122,
   "id": "2bc29f1f",
   "metadata": {},
   "outputs": [],
   "source": [
    "nyc_df = pd.concat([manhattan_df, queens_df, bronx_df, statenisland_df, brooklyn_df])"
   ]
  },
  {
   "cell_type": "code",
   "execution_count": 124,
   "id": "32ca026e",
   "metadata": {},
   "outputs": [],
   "source": [
    "nyc_df = nyc_df[nyc_df['area'] != 0]"
   ]
  },
  {
   "cell_type": "code",
   "execution_count": 131,
   "id": "c3535c41",
   "metadata": {
    "collapsed": true
   },
   "outputs": [
    {
     "name": "stderr",
     "output_type": "stream",
     "text": [
      "C:\\Users\\brand\\AppData\\Local\\Temp\\ipykernel_20460\\709180886.py:1: SettingWithCopyWarning: \n",
      "A value is trying to be set on a copy of a slice from a DataFrame.\n",
      "Try using .loc[row_indexer,col_indexer] = value instead\n",
      "\n",
      "See the caveats in the documentation: https://pandas.pydata.org/pandas-docs/stable/user_guide/indexing.html#returning-a-view-versus-a-copy\n",
      "  nyc_df['price'] = nyc_df['price'].apply(lambda x: float(x))\n"
     ]
    }
   ],
   "source": [
    "nyc_df['price'] = nyc_df['price'].apply(lambda x: float(x))"
   ]
  },
  {
   "cell_type": "markdown",
   "id": "c53f7ae7",
   "metadata": {},
   "source": [
    "With the dataframes for each respective borough joined, now we can create histograms to detect outliers in terms of price. "
   ]
  },
  {
   "cell_type": "code",
   "execution_count": 132,
   "id": "93c345bc",
   "metadata": {},
   "outputs": [],
   "source": [
    "hist, bin_edges = np.histogram(nyc_df['price'], 36)"
   ]
  },
  {
   "cell_type": "code",
   "execution_count": 133,
   "id": "f42f0573",
   "metadata": {},
   "outputs": [
    {
     "data": {
      "text/plain": [
       "array([805, 421,  82,  36,  15,   9,   6,   4,   2,   4,   1,   1,   2,\n",
       "         0,   0,   0,   0,   2,   1,   0,   0,   0,   0,   0,   2,   0,\n",
       "         0,   0,   0,   0,   0,   1,   0,   0,   0,   1], dtype=int64)"
      ]
     },
     "execution_count": 133,
     "metadata": {},
     "output_type": "execute_result"
    }
   ],
   "source": [
    "hist"
   ]
  },
  {
   "cell_type": "code",
   "execution_count": 260,
   "id": "43a89626",
   "metadata": {},
   "outputs": [
    {
     "data": {
      "text/plain": [
       "36.02776706930364"
      ]
     },
     "execution_count": 260,
     "metadata": {},
     "output_type": "execute_result"
    }
   ],
   "source": [
    "# Rule of thumb for number of bins in histogram: square root of total number of observations\n",
    "np.sqrt(1298)"
   ]
  },
  {
   "cell_type": "code",
   "execution_count": 261,
   "id": "0b052040",
   "metadata": {},
   "outputs": [
    {
     "data": {
      "text/plain": [
       "array([  120000.        ,   811111.11111111,  1502222.22222222,\n",
       "        2193333.33333333,  2884444.44444444,  3575555.55555556,\n",
       "        4266666.66666667,  4957777.77777778,  5648888.88888889,\n",
       "        6340000.        ,  7031111.11111111,  7722222.22222222,\n",
       "        8413333.33333333,  9104444.44444444,  9795555.55555556,\n",
       "       10486666.66666667, 11177777.77777778, 11868888.88888889,\n",
       "       12560000.        , 13251111.11111111, 13942222.22222222,\n",
       "       14633333.33333333, 15324444.44444444, 16015555.55555556,\n",
       "       16706666.66666667, 17397777.77777778, 18088888.88888889,\n",
       "       18780000.        , 19471111.11111111, 20162222.22222222,\n",
       "       20853333.33333333, 21544444.44444444, 22235555.55555556,\n",
       "       22926666.66666667, 23617777.77777778, 24308888.88888889,\n",
       "       25000000.        ])"
      ]
     },
     "execution_count": 261,
     "metadata": {},
     "output_type": "execute_result"
    }
   ],
   "source": [
    "bin_edges"
   ]
  },
  {
   "cell_type": "code",
   "execution_count": 262,
   "id": "be8a4ada",
   "metadata": {},
   "outputs": [
    {
     "data": {
      "image/png": "[encoded data removed]",
      "text/plain": [
       "<Figure size 640x480 with 1 Axes>"
      ]
     },
     "metadata": {},
     "output_type": "display_data"
    }
   ],
   "source": [
    "n, bins, patches = plt.hist(x=nyc_df['price'], bins=36, color='#0504aa',alpha=0.7, rwidth=0.85)\n",
    "plt.grid(axis='y', alpha=0.75)\n",
    "plt.xlabel('Value',fontsize=15)\n",
    "plt.ylabel('Frequency',fontsize=15)\n",
    "plt.xticks(fontsize=15)\n",
    "plt.yticks(fontsize=15)\n",
    "plt.ylabel('Frequency',fontsize=15)\n",
    "plt.show()\n",
    "\n"
   ]
  },
  {
   "cell_type": "code",
   "execution_count": 263,
   "id": "128c96ce",
   "metadata": {},
   "outputs": [
    {
     "data": {
      "text/plain": [
       "array([ 159000.        ,  210111.11111111,  261222.22222222,\n",
       "        312333.33333333,  363444.44444444,  414555.55555556,\n",
       "        465666.66666667,  516777.77777778,  567888.88888889,\n",
       "        619000.        ,  670111.11111111,  721222.22222222,\n",
       "        772333.33333333,  823444.44444444,  874555.55555556,\n",
       "        925666.66666667,  976777.77777778, 1027888.88888889,\n",
       "       1079000.        , 1130111.11111111, 1181222.22222222,\n",
       "       1232333.33333333, 1283444.44444444, 1334555.55555556,\n",
       "       1385666.66666667, 1436777.77777778, 1487888.88888889,\n",
       "       1539000.        , 1590111.11111111, 1641222.22222222,\n",
       "       1692333.33333333, 1743444.44444444, 1794555.55555556,\n",
       "       1845666.66666667, 1896777.77777778, 1947888.88888889,\n",
       "       1999000.        ])"
      ]
     },
     "execution_count": 263,
     "metadata": {},
     "output_type": "execute_result"
    }
   ],
   "source": [
    "bins"
   ]
  },
  {
   "cell_type": "code",
   "execution_count": 264,
   "id": "8192500f",
   "metadata": {},
   "outputs": [
    {
     "data": {
      "text/plain": [
       "(array([  5.,  26.,  40.,  43.,  73., 114., 119., 101., 165., 112., 100.,\n",
       "         43.,  68.,  12.,  24.,  51.,  29.,  36.,  32.,  11.,  14.,  21.,\n",
       "          3.,  21.,  17.,   4.,  10.,   4.]),\n",
       " array([ 159000.        ,  224714.28571429,  290428.57142857,\n",
       "         356142.85714286,  421857.14285714,  487571.42857143,\n",
       "         553285.71428571,  619000.        ,  684714.28571429,\n",
       "         750428.57142857,  816142.85714286,  881857.14285714,\n",
       "         947571.42857143, 1013285.71428571, 1079000.        ,\n",
       "        1144714.28571429, 1210428.57142857, 1276142.85714286,\n",
       "        1341857.14285714, 1407571.42857143, 1473285.71428571,\n",
       "        1539000.        , 1604714.28571429, 1670428.57142857,\n",
       "        1736142.85714286, 1801857.14285714, 1867571.42857143,\n",
       "        1933285.71428571, 1999000.        ]),\n",
       " <BarContainer object of 28 artists>)"
      ]
     },
     "execution_count": 264,
     "metadata": {},
     "output_type": "execute_result"
    },
    {
     "data": {
      "image/png": "[encoded data removed]",
      "text/plain": [
       "<Figure size 640x480 with 1 Axes>"
      ]
     },
     "metadata": {},
     "output_type": "display_data"
    }
   ],
   "source": [
    "plt.hist(x=nyc_df[nyc_df[\"price\"] < 2000000][\"price\"], bins=28, color='#0504aa',alpha=0.7, rwidth=0.85)"
   ]
  },
  {
   "cell_type": "code",
   "execution_count": 139,
   "id": "8c868c95",
   "metadata": {},
   "outputs": [
    {
     "data": {
      "text/plain": [
       "1307"
      ]
     },
     "execution_count": 139,
     "metadata": {},
     "output_type": "execute_result"
    }
   ],
   "source": [
    "len(nyc_df[nyc_df[\"price\"] < 2000000])"
   ]
  },
  {
   "cell_type": "code",
   "execution_count": 141,
   "id": "caa78b44",
   "metadata": {},
   "outputs": [],
   "source": [
    "# Cleaned dataset with outliers removed\n",
    "\n",
    "nyc_df = nyc_df[nyc_df['price'] < 2000000]"
   ]
  },
  {
   "cell_type": "code",
   "execution_count": 143,
   "id": "a2b3a704",
   "metadata": {
    "scrolled": true
   },
   "outputs": [
    {
     "data": {
      "text/plain": [
       "1307"
      ]
     },
     "execution_count": 143,
     "metadata": {},
     "output_type": "execute_result"
    }
   ],
   "source": [
    "len(nyc_df)"
   ]
  },
  {
   "cell_type": "code",
   "execution_count": 91,
   "id": "67adbbf0",
   "metadata": {},
   "outputs": [
    {
     "data": {
      "text/plain": [
       "(array([  2.,  16.,  24.,  47.,  62.,  89., 115., 133., 107., 156., 134.,\n",
       "         60.,  46.,  35.,  26.,  16.,  58.,  42.,  26.,  17.,  14.,  15.,\n",
       "          7.,  23.,  16.,   5.,  10.,   4.]),\n",
       " array([ 120000.        ,  187107.14285714,  254214.28571429,\n",
       "         321321.42857143,  388428.57142857,  455535.71428571,\n",
       "         522642.85714286,  589750.        ,  656857.14285714,\n",
       "         723964.28571429,  791071.42857143,  858178.57142857,\n",
       "         925285.71428571,  992392.85714286, 1059500.        ,\n",
       "        1126607.14285714, 1193714.28571429, 1260821.42857143,\n",
       "        1327928.57142857, 1395035.71428571, 1462142.85714286,\n",
       "        1529250.        , 1596357.14285714, 1663464.28571429,\n",
       "        1730571.42857143, 1797678.57142857, 1864785.71428571,\n",
       "        1931892.85714286, 1999000.        ]),\n",
       " <BarContainer object of 28 artists>)"
      ]
     },
     "execution_count": 91,
     "metadata": {},
     "output_type": "execute_result"
    },
    {
     "data": {
      "image/png": "[encoded data removed]",
      "text/plain": [
       "<Figure size 640x480 with 1 Axes>"
      ]
     },
     "metadata": {},
     "output_type": "display_data"
    }
   ],
   "source": [
    "# Final histogram\n",
    "plt.hist(x=nyc_df[\"price\"], bins=28, color='#0504aa',alpha=0.7, rwidth=0.85)"
   ]
  },
  {
   "cell_type": "code",
   "execution_count": 145,
   "id": "8bd370b1",
   "metadata": {},
   "outputs": [
    {
     "data": {
      "text/plain": [
       "array([ 2,  5,  3,  6,  1,  4,  8,  0, 10,  7,  9, 33, 18, 11],\n",
       "      dtype=int64)"
      ]
     },
     "execution_count": 145,
     "metadata": {},
     "output_type": "execute_result"
    }
   ],
   "source": [
    "nyc_df['beds'].unique()"
   ]
  },
  {
   "cell_type": "code",
   "execution_count": 147,
   "id": "950636c2",
   "metadata": {},
   "outputs": [],
   "source": [
    "nyc_df.to_csv('nyc_df.csv', index=False)"
   ]
  },
  {
   "cell_type": "code",
   "execution_count": 51,
   "id": "86e60b6f",
   "metadata": {},
   "outputs": [],
   "source": [
    "nyc_df = pd.read_csv('nyc_df.csv')"
   ]
  },
  {
   "cell_type": "code",
   "execution_count": 90,
   "id": "af075e85",
   "metadata": {},
   "outputs": [
    {
     "data": {
      "text/html": [
       "<div>\n",
       "<style scoped>\n",
       "    .dataframe tbody tr th:only-of-type {\n",
       "        vertical-align: middle;\n",
       "    }\n",
       "\n",
       "    .dataframe tbody tr th {\n",
       "        vertical-align: top;\n",
       "    }\n",
       "\n",
       "    .dataframe thead th {\n",
       "        text-align: right;\n",
       "    }\n",
       "</style>\n",
       "<table border=\"1\" class=\"dataframe\">\n",
       "  <thead>\n",
       "    <tr style=\"text-align: right;\">\n",
       "      <th></th>\n",
       "      <th>price</th>\n",
       "      <th>beds</th>\n",
       "      <th>baths</th>\n",
       "      <th>area</th>\n",
       "      <th>borough_brooklyn</th>\n",
       "      <th>borough_manhattan</th>\n",
       "      <th>borough_queens</th>\n",
       "      <th>borough_statenisland</th>\n",
       "    </tr>\n",
       "  </thead>\n",
       "  <tbody>\n",
       "    <tr>\n",
       "      <th>0</th>\n",
       "      <td>505000.0</td>\n",
       "      <td>2</td>\n",
       "      <td>3</td>\n",
       "      <td>1000.0</td>\n",
       "      <td>0</td>\n",
       "      <td>1</td>\n",
       "      <td>0</td>\n",
       "      <td>0</td>\n",
       "    </tr>\n",
       "    <tr>\n",
       "      <th>1</th>\n",
       "      <td>499900.0</td>\n",
       "      <td>5</td>\n",
       "      <td>2</td>\n",
       "      <td>1998.0</td>\n",
       "      <td>0</td>\n",
       "      <td>1</td>\n",
       "      <td>0</td>\n",
       "      <td>0</td>\n",
       "    </tr>\n",
       "    <tr>\n",
       "      <th>2</th>\n",
       "      <td>475000.0</td>\n",
       "      <td>2</td>\n",
       "      <td>1</td>\n",
       "      <td>750.0</td>\n",
       "      <td>0</td>\n",
       "      <td>1</td>\n",
       "      <td>0</td>\n",
       "      <td>0</td>\n",
       "    </tr>\n",
       "    <tr>\n",
       "      <th>3</th>\n",
       "      <td>1388888.0</td>\n",
       "      <td>3</td>\n",
       "      <td>4</td>\n",
       "      <td>2298.0</td>\n",
       "      <td>0</td>\n",
       "      <td>1</td>\n",
       "      <td>0</td>\n",
       "      <td>0</td>\n",
       "    </tr>\n",
       "    <tr>\n",
       "      <th>4</th>\n",
       "      <td>1188000.0</td>\n",
       "      <td>6</td>\n",
       "      <td>6</td>\n",
       "      <td>2550.0</td>\n",
       "      <td>0</td>\n",
       "      <td>1</td>\n",
       "      <td>0</td>\n",
       "      <td>0</td>\n",
       "    </tr>\n",
       "    <tr>\n",
       "      <th>...</th>\n",
       "      <td>...</td>\n",
       "      <td>...</td>\n",
       "      <td>...</td>\n",
       "      <td>...</td>\n",
       "      <td>...</td>\n",
       "      <td>...</td>\n",
       "      <td>...</td>\n",
       "      <td>...</td>\n",
       "    </tr>\n",
       "    <tr>\n",
       "      <th>1302</th>\n",
       "      <td>949800.0</td>\n",
       "      <td>3</td>\n",
       "      <td>3</td>\n",
       "      <td>1966.0</td>\n",
       "      <td>1</td>\n",
       "      <td>0</td>\n",
       "      <td>0</td>\n",
       "      <td>0</td>\n",
       "    </tr>\n",
       "    <tr>\n",
       "      <th>1303</th>\n",
       "      <td>824999.0</td>\n",
       "      <td>7</td>\n",
       "      <td>2</td>\n",
       "      <td>2100.0</td>\n",
       "      <td>1</td>\n",
       "      <td>0</td>\n",
       "      <td>0</td>\n",
       "      <td>0</td>\n",
       "    </tr>\n",
       "    <tr>\n",
       "      <th>1304</th>\n",
       "      <td>919000.0</td>\n",
       "      <td>3</td>\n",
       "      <td>3</td>\n",
       "      <td>1880.0</td>\n",
       "      <td>1</td>\n",
       "      <td>0</td>\n",
       "      <td>0</td>\n",
       "      <td>0</td>\n",
       "    </tr>\n",
       "    <tr>\n",
       "      <th>1305</th>\n",
       "      <td>725000.0</td>\n",
       "      <td>3</td>\n",
       "      <td>2</td>\n",
       "      <td>1430.0</td>\n",
       "      <td>1</td>\n",
       "      <td>0</td>\n",
       "      <td>0</td>\n",
       "      <td>0</td>\n",
       "    </tr>\n",
       "    <tr>\n",
       "      <th>1306</th>\n",
       "      <td>737000.0</td>\n",
       "      <td>3</td>\n",
       "      <td>2</td>\n",
       "      <td>2400.0</td>\n",
       "      <td>1</td>\n",
       "      <td>0</td>\n",
       "      <td>0</td>\n",
       "      <td>0</td>\n",
       "    </tr>\n",
       "  </tbody>\n",
       "</table>\n",
       "<p>1305 rows × 8 columns</p>\n",
       "</div>"
      ],
      "text/plain": [
       "          price  beds  baths    area  borough_brooklyn  borough_manhattan  \\\n",
       "0      505000.0     2      3  1000.0                 0                  1   \n",
       "1      499900.0     5      2  1998.0                 0                  1   \n",
       "2      475000.0     2      1   750.0                 0                  1   \n",
       "3     1388888.0     3      4  2298.0                 0                  1   \n",
       "4     1188000.0     6      6  2550.0                 0                  1   \n",
       "...         ...   ...    ...     ...               ...                ...   \n",
       "1302   949800.0     3      3  1966.0                 1                  0   \n",
       "1303   824999.0     7      2  2100.0                 1                  0   \n",
       "1304   919000.0     3      3  1880.0                 1                  0   \n",
       "1305   725000.0     3      2  1430.0                 1                  0   \n",
       "1306   737000.0     3      2  2400.0                 1                  0   \n",
       "\n",
       "      borough_queens  borough_statenisland  \n",
       "0                  0                     0  \n",
       "1                  0                     0  \n",
       "2                  0                     0  \n",
       "3                  0                     0  \n",
       "4                  0                     0  \n",
       "...              ...                   ...  \n",
       "1302               0                     0  \n",
       "1303               0                     0  \n",
       "1304               0                     0  \n",
       "1305               0                     0  \n",
       "1306               0                     0  \n",
       "\n",
       "[1305 rows x 8 columns]"
      ]
     },
     "execution_count": 90,
     "metadata": {},
     "output_type": "execute_result"
    }
   ],
   "source": [
    "nyc_df"
   ]
  },
  {
   "cell_type": "code",
   "execution_count": 52,
   "id": "c3296586",
   "metadata": {},
   "outputs": [],
   "source": [
    "nyc_df = pd.get_dummies(nyc_df, columns=['borough'], prefix='borough', drop_first=True, dtype=int)"
   ]
  },
  {
   "cell_type": "code",
   "execution_count": 104,
   "id": "5adb1336",
   "metadata": {},
   "outputs": [
    {
     "data": {
      "text/html": [
       "<div>\n",
       "<style scoped>\n",
       "    .dataframe tbody tr th:only-of-type {\n",
       "        vertical-align: middle;\n",
       "    }\n",
       "\n",
       "    .dataframe tbody tr th {\n",
       "        vertical-align: top;\n",
       "    }\n",
       "\n",
       "    .dataframe thead th {\n",
       "        text-align: right;\n",
       "    }\n",
       "</style>\n",
       "<table border=\"1\" class=\"dataframe\">\n",
       "  <thead>\n",
       "    <tr style=\"text-align: right;\">\n",
       "      <th></th>\n",
       "      <th>price</th>\n",
       "      <th>beds</th>\n",
       "      <th>baths</th>\n",
       "      <th>area</th>\n",
       "      <th>borough_brooklyn</th>\n",
       "      <th>borough_manhattan</th>\n",
       "      <th>borough_queens</th>\n",
       "      <th>borough_statenisland</th>\n",
       "    </tr>\n",
       "  </thead>\n",
       "  <tbody>\n",
       "    <tr>\n",
       "      <th>0</th>\n",
       "      <td>505000.0</td>\n",
       "      <td>2</td>\n",
       "      <td>3</td>\n",
       "      <td>1000.0</td>\n",
       "      <td>0</td>\n",
       "      <td>1</td>\n",
       "      <td>0</td>\n",
       "      <td>0</td>\n",
       "    </tr>\n",
       "    <tr>\n",
       "      <th>1</th>\n",
       "      <td>499900.0</td>\n",
       "      <td>5</td>\n",
       "      <td>2</td>\n",
       "      <td>1998.0</td>\n",
       "      <td>0</td>\n",
       "      <td>1</td>\n",
       "      <td>0</td>\n",
       "      <td>0</td>\n",
       "    </tr>\n",
       "    <tr>\n",
       "      <th>2</th>\n",
       "      <td>475000.0</td>\n",
       "      <td>2</td>\n",
       "      <td>1</td>\n",
       "      <td>750.0</td>\n",
       "      <td>0</td>\n",
       "      <td>1</td>\n",
       "      <td>0</td>\n",
       "      <td>0</td>\n",
       "    </tr>\n",
       "    <tr>\n",
       "      <th>3</th>\n",
       "      <td>1388888.0</td>\n",
       "      <td>3</td>\n",
       "      <td>4</td>\n",
       "      <td>2298.0</td>\n",
       "      <td>0</td>\n",
       "      <td>1</td>\n",
       "      <td>0</td>\n",
       "      <td>0</td>\n",
       "    </tr>\n",
       "    <tr>\n",
       "      <th>4</th>\n",
       "      <td>1188000.0</td>\n",
       "      <td>6</td>\n",
       "      <td>6</td>\n",
       "      <td>2550.0</td>\n",
       "      <td>0</td>\n",
       "      <td>1</td>\n",
       "      <td>0</td>\n",
       "      <td>0</td>\n",
       "    </tr>\n",
       "    <tr>\n",
       "      <th>...</th>\n",
       "      <td>...</td>\n",
       "      <td>...</td>\n",
       "      <td>...</td>\n",
       "      <td>...</td>\n",
       "      <td>...</td>\n",
       "      <td>...</td>\n",
       "      <td>...</td>\n",
       "      <td>...</td>\n",
       "    </tr>\n",
       "    <tr>\n",
       "      <th>1302</th>\n",
       "      <td>949800.0</td>\n",
       "      <td>3</td>\n",
       "      <td>3</td>\n",
       "      <td>1966.0</td>\n",
       "      <td>1</td>\n",
       "      <td>0</td>\n",
       "      <td>0</td>\n",
       "      <td>0</td>\n",
       "    </tr>\n",
       "    <tr>\n",
       "      <th>1303</th>\n",
       "      <td>824999.0</td>\n",
       "      <td>7</td>\n",
       "      <td>2</td>\n",
       "      <td>2100.0</td>\n",
       "      <td>1</td>\n",
       "      <td>0</td>\n",
       "      <td>0</td>\n",
       "      <td>0</td>\n",
       "    </tr>\n",
       "    <tr>\n",
       "      <th>1304</th>\n",
       "      <td>919000.0</td>\n",
       "      <td>3</td>\n",
       "      <td>3</td>\n",
       "      <td>1880.0</td>\n",
       "      <td>1</td>\n",
       "      <td>0</td>\n",
       "      <td>0</td>\n",
       "      <td>0</td>\n",
       "    </tr>\n",
       "    <tr>\n",
       "      <th>1305</th>\n",
       "      <td>725000.0</td>\n",
       "      <td>3</td>\n",
       "      <td>2</td>\n",
       "      <td>1430.0</td>\n",
       "      <td>1</td>\n",
       "      <td>0</td>\n",
       "      <td>0</td>\n",
       "      <td>0</td>\n",
       "    </tr>\n",
       "    <tr>\n",
       "      <th>1306</th>\n",
       "      <td>737000.0</td>\n",
       "      <td>3</td>\n",
       "      <td>2</td>\n",
       "      <td>2400.0</td>\n",
       "      <td>1</td>\n",
       "      <td>0</td>\n",
       "      <td>0</td>\n",
       "      <td>0</td>\n",
       "    </tr>\n",
       "  </tbody>\n",
       "</table>\n",
       "<p>1300 rows × 8 columns</p>\n",
       "</div>"
      ],
      "text/plain": [
       "          price  beds  baths    area  borough_brooklyn  borough_manhattan  \\\n",
       "0      505000.0     2      3  1000.0                 0                  1   \n",
       "1      499900.0     5      2  1998.0                 0                  1   \n",
       "2      475000.0     2      1   750.0                 0                  1   \n",
       "3     1388888.0     3      4  2298.0                 0                  1   \n",
       "4     1188000.0     6      6  2550.0                 0                  1   \n",
       "...         ...   ...    ...     ...               ...                ...   \n",
       "1302   949800.0     3      3  1966.0                 1                  0   \n",
       "1303   824999.0     7      2  2100.0                 1                  0   \n",
       "1304   919000.0     3      3  1880.0                 1                  0   \n",
       "1305   725000.0     3      2  1430.0                 1                  0   \n",
       "1306   737000.0     3      2  2400.0                 1                  0   \n",
       "\n",
       "      borough_queens  borough_statenisland  \n",
       "0                  0                     0  \n",
       "1                  0                     0  \n",
       "2                  0                     0  \n",
       "3                  0                     0  \n",
       "4                  0                     0  \n",
       "...              ...                   ...  \n",
       "1302               0                     0  \n",
       "1303               0                     0  \n",
       "1304               0                     0  \n",
       "1305               0                     0  \n",
       "1306               0                     0  \n",
       "\n",
       "[1300 rows x 8 columns]"
      ]
     },
     "execution_count": 104,
     "metadata": {},
     "output_type": "execute_result"
    }
   ],
   "source": [
    "nyc_df"
   ]
  },
  {
   "cell_type": "code",
   "execution_count": 105,
   "id": "652867b1",
   "metadata": {},
   "outputs": [],
   "source": [
    "X = nyc_df.drop(columns=['price'])"
   ]
  },
  {
   "cell_type": "code",
   "execution_count": 106,
   "id": "88891b49",
   "metadata": {},
   "outputs": [],
   "source": [
    "y = nyc_df['price']"
   ]
  },
  {
   "cell_type": "markdown",
   "id": "6d79af95",
   "metadata": {},
   "source": [
    "Further data cleaning: removing properties with abnormally large area. "
   ]
  },
  {
   "cell_type": "code",
   "execution_count": 100,
   "id": "3638e8bf",
   "metadata": {},
   "outputs": [],
   "source": [
    "nyc_df = nyc_df[nyc_df['area'] < 10000]"
   ]
  },
  {
   "cell_type": "markdown",
   "id": "b83de6cd",
   "metadata": {},
   "source": [
    "Splitting data into training and testing subsets, and building our linear model."
   ]
  },
  {
   "cell_type": "code",
   "execution_count": 107,
   "id": "39b74ae2",
   "metadata": {},
   "outputs": [],
   "source": [
    "X_train, X_test, y_train, y_test = train_test_split(X, y, test_size=0.20, random_state=42)"
   ]
  },
  {
   "cell_type": "code",
   "execution_count": 108,
   "id": "ce79b5d3",
   "metadata": {},
   "outputs": [],
   "source": [
    "reg = linear_model.LinearRegression().fit(X_train, y_train)"
   ]
  },
  {
   "cell_type": "markdown",
   "id": "22fb0245",
   "metadata": {},
   "source": [
    "Ensuring the test data set aligns with the cleaned full dataset. "
   ]
  },
  {
   "cell_type": "code",
   "execution_count": 44,
   "id": "e632fb02",
   "metadata": {},
   "outputs": [],
   "source": [
    "X_test = X_test[X_test['area'] < 50000]"
   ]
  },
  {
   "cell_type": "markdown",
   "id": "bd404106",
   "metadata": {},
   "source": [
    "## Visualizations"
   ]
  },
  {
   "cell_type": "code",
   "execution_count": 109,
   "id": "b928bddb",
   "metadata": {},
   "outputs": [
    {
     "data": {
      "text/plain": [
       "<matplotlib.legend.Legend at 0x22b29b17160>"
      ]
     },
     "execution_count": 109,
     "metadata": {},
     "output_type": "execute_result"
    },
    {
     "data": {
      "image/png": "[encoded data removed]",
      "text/plain": [
       "<Figure size 640x480 with 1 Axes>"
      ]
     },
     "metadata": {},
     "output_type": "display_data"
    }
   ],
   "source": [
    "plt.title(\"Actual and predicted values by area\")\n",
    "plt.scatter(X_test['area'], y_test, label='actual')\n",
    "plt.scatter(X_test['area'], reg.predict(X_test), label='predicted')\n",
    "plt.legend()"
   ]
  },
  {
   "cell_type": "code",
   "execution_count": 110,
   "id": "a3760a77",
   "metadata": {},
   "outputs": [
    {
     "data": {
      "text/plain": [
       "<matplotlib.legend.Legend at 0x22b29b93790>"
      ]
     },
     "execution_count": 110,
     "metadata": {},
     "output_type": "execute_result"
    },
    {
     "data": {
      "image/png": "[encoded data removed]",
      "text/plain": [
       "<Figure size 640x480 with 1 Axes>"
      ]
     },
     "metadata": {},
     "output_type": "display_data"
    }
   ],
   "source": [
    "plt.title(\"Actual and predicted values by bedrooms\")\n",
    "plt.scatter(X_test['beds'], y_test, label='actual')\n",
    "plt.scatter(X_test['beds'], reg.predict(X_test), label='predicted')\n",
    "plt.legend()"
   ]
  },
  {
   "cell_type": "code",
   "execution_count": 111,
   "id": "65a42a1d",
   "metadata": {},
   "outputs": [
    {
     "data": {
      "text/plain": [
       "<matplotlib.legend.Legend at 0x22b29b5bd90>"
      ]
     },
     "execution_count": 111,
     "metadata": {},
     "output_type": "execute_result"
    },
    {
     "data": {
      "image/png": "[encoded data removed]",
      "text/plain": [
       "<Figure size 640x480 with 1 Axes>"
      ]
     },
     "metadata": {},
     "output_type": "display_data"
    }
   ],
   "source": [
    "plt.title(\"Actual and predicted values by bathrooms\")\n",
    "plt.scatter(X_test['baths'], y_test, label='actual')\n",
    "plt.scatter(X_test['baths'], reg.predict(X_test), label='predicted')\n",
    "plt.legend()"
   ]
  },
  {
   "cell_type": "code",
   "execution_count": 112,
   "id": "d1da18c1",
   "metadata": {},
   "outputs": [
    {
     "data": {
      "text/plain": [
       "<matplotlib.legend.Legend at 0x22b29cd1870>"
      ]
     },
     "execution_count": 112,
     "metadata": {},
     "output_type": "execute_result"
    },
    {
     "data": {
      "image/png": "[encoded data removed]",
      "text/plain": [
       "<Figure size 640x480 with 1 Axes>"
      ]
     },
     "metadata": {},
     "output_type": "display_data"
    }
   ],
   "source": [
    "plt.title('Actual and predicted values by properties in and not in Manhattan')\n",
    "plt.scatter(X_test['borough_manhattan'], y_test, label='actual')\n",
    "plt.scatter(X_test['borough_manhattan'], reg.predict(X_test), label='predicted')\n",
    "plt.legend()"
   ]
  },
  {
   "cell_type": "markdown",
   "id": "dd8ed891",
   "metadata": {},
   "source": [
    "The model yields an R-squared value of just over 57%."
   ]
  },
  {
   "cell_type": "code",
   "execution_count": 113,
   "id": "e78d2941",
   "metadata": {},
   "outputs": [
    {
     "name": "stdout",
     "output_type": "stream",
     "text": [
      "0.5720067459995937\n"
     ]
    }
   ],
   "source": [
    "print(r2_score(y_test, reg.predict(X_test)))"
   ]
  },
  {
   "cell_type": "markdown",
   "id": "a917160a",
   "metadata": {},
   "source": [
    "We can now use the model to determine the expected price of a particular property. Consider the test data set:"
   ]
  },
  {
   "cell_type": "code",
   "execution_count": 115,
   "id": "c4310b49",
   "metadata": {},
   "outputs": [],
   "source": [
    "prediction_data = X_test\n"
   ]
  },
  {
   "cell_type": "code",
   "execution_count": 116,
   "id": "3ada4a51",
   "metadata": {},
   "outputs": [
    {
     "data": {
      "text/html": [
       "<div>\n",
       "<style scoped>\n",
       "    .dataframe tbody tr th:only-of-type {\n",
       "        vertical-align: middle;\n",
       "    }\n",
       "\n",
       "    .dataframe tbody tr th {\n",
       "        vertical-align: top;\n",
       "    }\n",
       "\n",
       "    .dataframe thead th {\n",
       "        text-align: right;\n",
       "    }\n",
       "</style>\n",
       "<table border=\"1\" class=\"dataframe\">\n",
       "  <thead>\n",
       "    <tr style=\"text-align: right;\">\n",
       "      <th></th>\n",
       "      <th>beds</th>\n",
       "      <th>baths</th>\n",
       "      <th>area</th>\n",
       "      <th>borough_brooklyn</th>\n",
       "      <th>borough_manhattan</th>\n",
       "      <th>borough_queens</th>\n",
       "      <th>borough_statenisland</th>\n",
       "    </tr>\n",
       "  </thead>\n",
       "  <tbody>\n",
       "    <tr>\n",
       "      <th>484</th>\n",
       "      <td>2</td>\n",
       "      <td>1</td>\n",
       "      <td>1045.0</td>\n",
       "      <td>0</td>\n",
       "      <td>0</td>\n",
       "      <td>0</td>\n",
       "      <td>0</td>\n",
       "    </tr>\n",
       "    <tr>\n",
       "      <th>727</th>\n",
       "      <td>3</td>\n",
       "      <td>2</td>\n",
       "      <td>1400.0</td>\n",
       "      <td>0</td>\n",
       "      <td>0</td>\n",
       "      <td>0</td>\n",
       "      <td>1</td>\n",
       "    </tr>\n",
       "    <tr>\n",
       "      <th>317</th>\n",
       "      <td>2</td>\n",
       "      <td>1</td>\n",
       "      <td>938.0</td>\n",
       "      <td>0</td>\n",
       "      <td>0</td>\n",
       "      <td>0</td>\n",
       "      <td>0</td>\n",
       "    </tr>\n",
       "    <tr>\n",
       "      <th>666</th>\n",
       "      <td>5</td>\n",
       "      <td>5</td>\n",
       "      <td>4478.0</td>\n",
       "      <td>0</td>\n",
       "      <td>0</td>\n",
       "      <td>0</td>\n",
       "      <td>1</td>\n",
       "    </tr>\n",
       "    <tr>\n",
       "      <th>829</th>\n",
       "      <td>3</td>\n",
       "      <td>1</td>\n",
       "      <td>1079.0</td>\n",
       "      <td>0</td>\n",
       "      <td>0</td>\n",
       "      <td>0</td>\n",
       "      <td>1</td>\n",
       "    </tr>\n",
       "    <tr>\n",
       "      <th>...</th>\n",
       "      <td>...</td>\n",
       "      <td>...</td>\n",
       "      <td>...</td>\n",
       "      <td>...</td>\n",
       "      <td>...</td>\n",
       "      <td>...</td>\n",
       "      <td>...</td>\n",
       "    </tr>\n",
       "    <tr>\n",
       "      <th>311</th>\n",
       "      <td>3</td>\n",
       "      <td>2</td>\n",
       "      <td>1442.0</td>\n",
       "      <td>0</td>\n",
       "      <td>0</td>\n",
       "      <td>0</td>\n",
       "      <td>0</td>\n",
       "    </tr>\n",
       "    <tr>\n",
       "      <th>204</th>\n",
       "      <td>11</td>\n",
       "      <td>6</td>\n",
       "      <td>4950.0</td>\n",
       "      <td>0</td>\n",
       "      <td>0</td>\n",
       "      <td>1</td>\n",
       "      <td>0</td>\n",
       "    </tr>\n",
       "    <tr>\n",
       "      <th>301</th>\n",
       "      <td>2</td>\n",
       "      <td>1</td>\n",
       "      <td>754.0</td>\n",
       "      <td>0</td>\n",
       "      <td>0</td>\n",
       "      <td>1</td>\n",
       "      <td>0</td>\n",
       "    </tr>\n",
       "    <tr>\n",
       "      <th>291</th>\n",
       "      <td>2</td>\n",
       "      <td>2</td>\n",
       "      <td>1940.0</td>\n",
       "      <td>0</td>\n",
       "      <td>0</td>\n",
       "      <td>1</td>\n",
       "      <td>0</td>\n",
       "    </tr>\n",
       "    <tr>\n",
       "      <th>832</th>\n",
       "      <td>4</td>\n",
       "      <td>4</td>\n",
       "      <td>2790.0</td>\n",
       "      <td>0</td>\n",
       "      <td>0</td>\n",
       "      <td>0</td>\n",
       "      <td>1</td>\n",
       "    </tr>\n",
       "  </tbody>\n",
       "</table>\n",
       "<p>260 rows × 7 columns</p>\n",
       "</div>"
      ],
      "text/plain": [
       "     beds  baths    area  borough_brooklyn  borough_manhattan  borough_queens  \\\n",
       "484     2      1  1045.0                 0                  0               0   \n",
       "727     3      2  1400.0                 0                  0               0   \n",
       "317     2      1   938.0                 0                  0               0   \n",
       "666     5      5  4478.0                 0                  0               0   \n",
       "829     3      1  1079.0                 0                  0               0   \n",
       "..    ...    ...     ...               ...                ...             ...   \n",
       "311     3      2  1442.0                 0                  0               0   \n",
       "204    11      6  4950.0                 0                  0               1   \n",
       "301     2      1   754.0                 0                  0               1   \n",
       "291     2      2  1940.0                 0                  0               1   \n",
       "832     4      4  2790.0                 0                  0               0   \n",
       "\n",
       "     borough_statenisland  \n",
       "484                     0  \n",
       "727                     1  \n",
       "317                     0  \n",
       "666                     1  \n",
       "829                     1  \n",
       "..                    ...  \n",
       "311                     0  \n",
       "204                     0  \n",
       "301                     0  \n",
       "291                     0  \n",
       "832                     1  \n",
       "\n",
       "[260 rows x 7 columns]"
      ]
     },
     "execution_count": 116,
     "metadata": {},
     "output_type": "execute_result"
    }
   ],
   "source": [
    "prediction_data"
   ]
  },
  {
   "cell_type": "code",
   "execution_count": 117,
   "id": "537fff8d",
   "metadata": {},
   "outputs": [],
   "source": [
    "predicted_values = reg.predict(prediction_data)"
   ]
  },
  {
   "cell_type": "code",
   "execution_count": 118,
   "id": "0de93d93",
   "metadata": {},
   "outputs": [],
   "source": [
    "prediction_data['predicted'] = predicted_values"
   ]
  },
  {
   "cell_type": "markdown",
   "id": "9ea42ffb",
   "metadata": {},
   "source": [
    "Below are the predicted prices for each property. We will now add these predicted prices to our prediction dataframe, and add the actual price by joining with the full dataframe."
   ]
  },
  {
   "cell_type": "code",
   "execution_count": 119,
   "id": "75708948",
   "metadata": {
    "collapsed": true
   },
   "outputs": [
    {
     "data": {
      "text/plain": [
       "array([ 630152.76337328,  646463.96346611,  615517.74951793,\n",
       "       1403664.47180355,  495491.47006058,  823454.86517612,\n",
       "        592847.83793996,  783348.54633799,  567623.13052085,\n",
       "        734189.86857786,  824164.55658657,  619439.57296538,\n",
       "        566586.87849858,  652640.4731213 ,  867328.90621823,\n",
       "       1564581.38038621,  893215.16480542,  770224.49271359,\n",
       "        985064.87283077, 1407391.50175051,  719775.8085733 ,\n",
       "        979492.69042047,  635579.12095539, 1021461.27307448,\n",
       "        656038.27159578, 1327113.09346526,  799084.19293302,\n",
       "        734621.4744347 ,  624853.38225915,  622391.41731152,\n",
       "        619986.67628707,  621178.58015593, 1396177.42776732,\n",
       "        614890.34392432,  586406.09492376, 1098350.88705879,\n",
       "        958752.38486455,  782541.92070641, 1082751.60515327,\n",
       "        691001.35565946,  615005.52246863, 1070652.75134171,\n",
       "       1579729.04808457,  826791.73188794, 1106967.7643755 ,\n",
       "        769393.95966687,  764115.75205828,  874276.45018745,\n",
       "        703362.70892244,  998074.08713462,  947047.61806923,\n",
       "        600564.50836689,  872418.8124847 ,  910241.64069893,\n",
       "        837626.95373015,  601385.16334943,  583705.45458768,\n",
       "        566804.27552147,  488474.91926082,  604667.7832796 ,\n",
       "        566751.67771141,  742101.26945633,  694234.35492112,\n",
       "        478627.05947031,  953559.78529318,  636227.37347044,\n",
       "        834344.33379997,  940282.70272366,  611996.4541993 ,\n",
       "        721309.54324875,  621786.35936869,  935358.7728284 ,\n",
       "       1387779.85532982,  822578.16041564,  741495.14222829,\n",
       "        752767.98424623, 1276027.57276411,  604063.45603472,\n",
       "        759174.85099004,  678947.60126331,  556999.29138263,\n",
       "        585346.76455276,  796752.57771953,  952472.00474608,\n",
       "        862609.51814014, 1299606.08823341,  649684.00266203,\n",
       "        787458.247347  ,  450571.04306043,  594552.79792453,\n",
       "       1172643.56024822,  599196.75006265,  580422.8346575 ,\n",
       "        778936.84349203,  977520.60487134,  465479.60857663,\n",
       "        604337.00769557, 1465207.169398  ,  603106.02522175,\n",
       "       1006787.18061417,  576064.15340217,  706098.22553091,\n",
       "        657679.58156087,  629287.4327559 ,  599766.93173307,\n",
       "        793276.70840042,  438146.03977797,  606309.09324469,\n",
       "        804881.05670034,  576726.43526818,  912303.10517369,\n",
       "        597440.26155325,  820631.87448519,  726176.24922082,\n",
       "        813824.50726851,  503361.88749091,  592847.83793996,\n",
       "        698057.65207669, 1044713.16424653,  665511.43053211,\n",
       "        728421.88643079,  606035.54158384,  736377.9629441 ,\n",
       "        641597.25749404,  637675.43404659,  461666.85649775,\n",
       "       1403664.47180355,  820084.7711635 ,  704568.64214226,\n",
       "       1318577.71123164,  741165.43592948,  906165.67412346,\n",
       "        918787.30006101,  616801.75358237,  714470.75172755,\n",
       "        436173.95422885,  559092.23120768,  798472.70889391,\n",
       "        656911.52438838, 1158045.76196572,  527907.34187104,\n",
       "       1313237.02473569, 1060795.48831336,  906187.27140957,\n",
       "        674720.08680535,  935595.55601332,  568723.76326053,\n",
       "        538143.93186672,  514308.58003795,  805608.44934522,\n",
       "        822556.56312953,  701174.29563566,  993682.40829178,\n",
       "        850607.37863413, 1218138.49112769,  631145.07045864,\n",
       "        647773.76714923, 1133332.85015177,  520578.67095134,\n",
       "       1012376.84434332,  962762.84453653,  905573.06610052,\n",
       "        619655.90070304, 1100572.20571271,  996286.91702182,\n",
       "        848893.3696518 ,  956780.29931543,  565047.78701207,\n",
       "       1037444.24793112, 1012093.41461829,  718905.53292224,\n",
       "        582302.82001104,  628956.65717186, 1162830.25780955,\n",
       "        659457.66735638,  996611.26650956,  767208.99834797,\n",
       "        827333.89017596, 1013912.37900192, 1202722.15375321,\n",
       "        593725.71684569,  645426.98074591,  809314.35683241,\n",
       "        643627.29766429,  781764.46029609,  909838.16609765,\n",
       "        638632.86485956,  906339.21842982,  617159.05948301,\n",
       "        673602.80181322,  910932.37274104,  589565.21800979,\n",
       "        633466.80760797,  830067.92572182,  767208.99834797,\n",
       "        603397.72220083,  665612.57972545, 1132776.682816  ,\n",
       "        647558.17010951, 1263437.77026882, 1372619.01651834,\n",
       "        924782.35825092,  746225.82273462,  996669.22113068,\n",
       "        860132.38501583,  798867.86519536,  997057.95133584,\n",
       "        987480.19123829,  682510.20196376,  723000.47388235,\n",
       "        608731.97958736,  563521.6555913 ,  719887.53514973,\n",
       "        580969.9379792 ,  735830.8596224 ,  815742.82086233,\n",
       "        567298.78103311,  636399.77593794,  948794.22851445,\n",
       "        414268.22407493,  757202.76544092,  414153.04553061,\n",
       "        900896.20859526,  639877.12631966,  726176.24922082,\n",
       "        760808.55770046, 1184504.489036  , 1199134.55785768,\n",
       "        683450.66160374,  834667.50612934,  838447.60871269,\n",
       "        923746.10622866,  746972.60154154,  774810.49023058,\n",
       "        987036.95837989, 1728580.15827353, 1129608.90220638,\n",
       "        948199.04863581,  434532.64426377, 1339130.85125802,\n",
       "        694450.68265878,  690337.52968189, 1057706.45699588,\n",
       "        591537.30355891,  870446.72693558,  644545.6498723 ,\n",
       "        908470.40779341,  366576.65382922,  880195.23751591,\n",
       "       1063646.18346615,  583807.35414571,  501372.83076881,\n",
       "        712720.68931445,  538037.07162223,  663761.368119  ,\n",
       "        799021.29327822, 1801881.78609277,  625123.48195211,\n",
       "        894407.06867427, 1058218.34482142])"
      ]
     },
     "execution_count": 119,
     "metadata": {},
     "output_type": "execute_result"
    }
   ],
   "source": [
    "predicted_values"
   ]
  },
  {
   "cell_type": "code",
   "execution_count": 120,
   "id": "041b337f",
   "metadata": {},
   "outputs": [],
   "source": [
    "prediction_data['predicted'] = prediction_data['predicted'].apply(lambda x: int(x))"
   ]
  },
  {
   "cell_type": "code",
   "execution_count": 121,
   "id": "f5295ca5",
   "metadata": {},
   "outputs": [
    {
     "data": {
      "text/html": [
       "<div>\n",
       "<style scoped>\n",
       "    .dataframe tbody tr th:only-of-type {\n",
       "        vertical-align: middle;\n",
       "    }\n",
       "\n",
       "    .dataframe tbody tr th {\n",
       "        vertical-align: top;\n",
       "    }\n",
       "\n",
       "    .dataframe thead th {\n",
       "        text-align: right;\n",
       "    }\n",
       "</style>\n",
       "<table border=\"1\" class=\"dataframe\">\n",
       "  <thead>\n",
       "    <tr style=\"text-align: right;\">\n",
       "      <th></th>\n",
       "      <th>beds</th>\n",
       "      <th>baths</th>\n",
       "      <th>area</th>\n",
       "      <th>borough_brooklyn</th>\n",
       "      <th>borough_manhattan</th>\n",
       "      <th>borough_queens</th>\n",
       "      <th>borough_statenisland</th>\n",
       "      <th>predicted</th>\n",
       "    </tr>\n",
       "  </thead>\n",
       "  <tbody>\n",
       "    <tr>\n",
       "      <th>484</th>\n",
       "      <td>2</td>\n",
       "      <td>1</td>\n",
       "      <td>1045.0</td>\n",
       "      <td>0</td>\n",
       "      <td>0</td>\n",
       "      <td>0</td>\n",
       "      <td>0</td>\n",
       "      <td>630152</td>\n",
       "    </tr>\n",
       "    <tr>\n",
       "      <th>727</th>\n",
       "      <td>3</td>\n",
       "      <td>2</td>\n",
       "      <td>1400.0</td>\n",
       "      <td>0</td>\n",
       "      <td>0</td>\n",
       "      <td>0</td>\n",
       "      <td>1</td>\n",
       "      <td>646463</td>\n",
       "    </tr>\n",
       "    <tr>\n",
       "      <th>317</th>\n",
       "      <td>2</td>\n",
       "      <td>1</td>\n",
       "      <td>938.0</td>\n",
       "      <td>0</td>\n",
       "      <td>0</td>\n",
       "      <td>0</td>\n",
       "      <td>0</td>\n",
       "      <td>615517</td>\n",
       "    </tr>\n",
       "    <tr>\n",
       "      <th>666</th>\n",
       "      <td>5</td>\n",
       "      <td>5</td>\n",
       "      <td>4478.0</td>\n",
       "      <td>0</td>\n",
       "      <td>0</td>\n",
       "      <td>0</td>\n",
       "      <td>1</td>\n",
       "      <td>1403664</td>\n",
       "    </tr>\n",
       "    <tr>\n",
       "      <th>829</th>\n",
       "      <td>3</td>\n",
       "      <td>1</td>\n",
       "      <td>1079.0</td>\n",
       "      <td>0</td>\n",
       "      <td>0</td>\n",
       "      <td>0</td>\n",
       "      <td>1</td>\n",
       "      <td>495491</td>\n",
       "    </tr>\n",
       "    <tr>\n",
       "      <th>...</th>\n",
       "      <td>...</td>\n",
       "      <td>...</td>\n",
       "      <td>...</td>\n",
       "      <td>...</td>\n",
       "      <td>...</td>\n",
       "      <td>...</td>\n",
       "      <td>...</td>\n",
       "      <td>...</td>\n",
       "    </tr>\n",
       "    <tr>\n",
       "      <th>311</th>\n",
       "      <td>3</td>\n",
       "      <td>2</td>\n",
       "      <td>1442.0</td>\n",
       "      <td>0</td>\n",
       "      <td>0</td>\n",
       "      <td>0</td>\n",
       "      <td>0</td>\n",
       "      <td>799021</td>\n",
       "    </tr>\n",
       "    <tr>\n",
       "      <th>204</th>\n",
       "      <td>11</td>\n",
       "      <td>6</td>\n",
       "      <td>4950.0</td>\n",
       "      <td>0</td>\n",
       "      <td>0</td>\n",
       "      <td>1</td>\n",
       "      <td>0</td>\n",
       "      <td>1801881</td>\n",
       "    </tr>\n",
       "    <tr>\n",
       "      <th>301</th>\n",
       "      <td>2</td>\n",
       "      <td>1</td>\n",
       "      <td>754.0</td>\n",
       "      <td>0</td>\n",
       "      <td>0</td>\n",
       "      <td>1</td>\n",
       "      <td>0</td>\n",
       "      <td>625123</td>\n",
       "    </tr>\n",
       "    <tr>\n",
       "      <th>291</th>\n",
       "      <td>2</td>\n",
       "      <td>2</td>\n",
       "      <td>1940.0</td>\n",
       "      <td>0</td>\n",
       "      <td>0</td>\n",
       "      <td>1</td>\n",
       "      <td>0</td>\n",
       "      <td>894407</td>\n",
       "    </tr>\n",
       "    <tr>\n",
       "      <th>832</th>\n",
       "      <td>4</td>\n",
       "      <td>4</td>\n",
       "      <td>2790.0</td>\n",
       "      <td>0</td>\n",
       "      <td>0</td>\n",
       "      <td>0</td>\n",
       "      <td>1</td>\n",
       "      <td>1058218</td>\n",
       "    </tr>\n",
       "  </tbody>\n",
       "</table>\n",
       "<p>260 rows × 8 columns</p>\n",
       "</div>"
      ],
      "text/plain": [
       "     beds  baths    area  borough_brooklyn  borough_manhattan  borough_queens  \\\n",
       "484     2      1  1045.0                 0                  0               0   \n",
       "727     3      2  1400.0                 0                  0               0   \n",
       "317     2      1   938.0                 0                  0               0   \n",
       "666     5      5  4478.0                 0                  0               0   \n",
       "829     3      1  1079.0                 0                  0               0   \n",
       "..    ...    ...     ...               ...                ...             ...   \n",
       "311     3      2  1442.0                 0                  0               0   \n",
       "204    11      6  4950.0                 0                  0               1   \n",
       "301     2      1   754.0                 0                  0               1   \n",
       "291     2      2  1940.0                 0                  0               1   \n",
       "832     4      4  2790.0                 0                  0               0   \n",
       "\n",
       "     borough_statenisland  predicted  \n",
       "484                     0     630152  \n",
       "727                     1     646463  \n",
       "317                     0     615517  \n",
       "666                     1    1403664  \n",
       "829                     1     495491  \n",
       "..                    ...        ...  \n",
       "311                     0     799021  \n",
       "204                     0    1801881  \n",
       "301                     0     625123  \n",
       "291                     0     894407  \n",
       "832                     1    1058218  \n",
       "\n",
       "[260 rows x 8 columns]"
      ]
     },
     "execution_count": 121,
     "metadata": {},
     "output_type": "execute_result"
    }
   ],
   "source": [
    "prediction_data"
   ]
  },
  {
   "cell_type": "code",
   "execution_count": 122,
   "id": "faaaedba",
   "metadata": {},
   "outputs": [],
   "source": [
    "prediction_data = prediction_data.merge(nyc_df, how='left')"
   ]
  },
  {
   "cell_type": "code",
   "execution_count": 123,
   "id": "1be3a494",
   "metadata": {},
   "outputs": [
    {
     "data": {
      "text/html": [
       "<div>\n",
       "<style scoped>\n",
       "    .dataframe tbody tr th:only-of-type {\n",
       "        vertical-align: middle;\n",
       "    }\n",
       "\n",
       "    .dataframe tbody tr th {\n",
       "        vertical-align: top;\n",
       "    }\n",
       "\n",
       "    .dataframe thead th {\n",
       "        text-align: right;\n",
       "    }\n",
       "</style>\n",
       "<table border=\"1\" class=\"dataframe\">\n",
       "  <thead>\n",
       "    <tr style=\"text-align: right;\">\n",
       "      <th></th>\n",
       "      <th>beds</th>\n",
       "      <th>baths</th>\n",
       "      <th>area</th>\n",
       "      <th>borough_brooklyn</th>\n",
       "      <th>borough_manhattan</th>\n",
       "      <th>borough_queens</th>\n",
       "      <th>borough_statenisland</th>\n",
       "      <th>predicted</th>\n",
       "      <th>price</th>\n",
       "    </tr>\n",
       "  </thead>\n",
       "  <tbody>\n",
       "    <tr>\n",
       "      <th>0</th>\n",
       "      <td>2</td>\n",
       "      <td>1</td>\n",
       "      <td>1045.0</td>\n",
       "      <td>0</td>\n",
       "      <td>0</td>\n",
       "      <td>0</td>\n",
       "      <td>0</td>\n",
       "      <td>630152</td>\n",
       "      <td>1195000.0</td>\n",
       "    </tr>\n",
       "    <tr>\n",
       "      <th>1</th>\n",
       "      <td>3</td>\n",
       "      <td>2</td>\n",
       "      <td>1400.0</td>\n",
       "      <td>0</td>\n",
       "      <td>0</td>\n",
       "      <td>0</td>\n",
       "      <td>1</td>\n",
       "      <td>646463</td>\n",
       "      <td>595000.0</td>\n",
       "    </tr>\n",
       "    <tr>\n",
       "      <th>2</th>\n",
       "      <td>2</td>\n",
       "      <td>1</td>\n",
       "      <td>938.0</td>\n",
       "      <td>0</td>\n",
       "      <td>0</td>\n",
       "      <td>0</td>\n",
       "      <td>0</td>\n",
       "      <td>615517</td>\n",
       "      <td>339500.0</td>\n",
       "    </tr>\n",
       "    <tr>\n",
       "      <th>3</th>\n",
       "      <td>5</td>\n",
       "      <td>5</td>\n",
       "      <td>4478.0</td>\n",
       "      <td>0</td>\n",
       "      <td>0</td>\n",
       "      <td>0</td>\n",
       "      <td>1</td>\n",
       "      <td>1403664</td>\n",
       "      <td>1575000.0</td>\n",
       "    </tr>\n",
       "    <tr>\n",
       "      <th>4</th>\n",
       "      <td>5</td>\n",
       "      <td>5</td>\n",
       "      <td>4478.0</td>\n",
       "      <td>0</td>\n",
       "      <td>0</td>\n",
       "      <td>0</td>\n",
       "      <td>1</td>\n",
       "      <td>1403664</td>\n",
       "      <td>1575000.0</td>\n",
       "    </tr>\n",
       "    <tr>\n",
       "      <th>...</th>\n",
       "      <td>...</td>\n",
       "      <td>...</td>\n",
       "      <td>...</td>\n",
       "      <td>...</td>\n",
       "      <td>...</td>\n",
       "      <td>...</td>\n",
       "      <td>...</td>\n",
       "      <td>...</td>\n",
       "      <td>...</td>\n",
       "    </tr>\n",
       "    <tr>\n",
       "      <th>301</th>\n",
       "      <td>3</td>\n",
       "      <td>2</td>\n",
       "      <td>1442.0</td>\n",
       "      <td>0</td>\n",
       "      <td>0</td>\n",
       "      <td>0</td>\n",
       "      <td>0</td>\n",
       "      <td>799021</td>\n",
       "      <td>639000.0</td>\n",
       "    </tr>\n",
       "    <tr>\n",
       "      <th>302</th>\n",
       "      <td>11</td>\n",
       "      <td>6</td>\n",
       "      <td>4950.0</td>\n",
       "      <td>0</td>\n",
       "      <td>0</td>\n",
       "      <td>1</td>\n",
       "      <td>0</td>\n",
       "      <td>1801881</td>\n",
       "      <td>1288000.0</td>\n",
       "    </tr>\n",
       "    <tr>\n",
       "      <th>303</th>\n",
       "      <td>2</td>\n",
       "      <td>1</td>\n",
       "      <td>754.0</td>\n",
       "      <td>0</td>\n",
       "      <td>0</td>\n",
       "      <td>1</td>\n",
       "      <td>0</td>\n",
       "      <td>625123</td>\n",
       "      <td>429000.0</td>\n",
       "    </tr>\n",
       "    <tr>\n",
       "      <th>304</th>\n",
       "      <td>2</td>\n",
       "      <td>2</td>\n",
       "      <td>1940.0</td>\n",
       "      <td>0</td>\n",
       "      <td>0</td>\n",
       "      <td>1</td>\n",
       "      <td>0</td>\n",
       "      <td>894407</td>\n",
       "      <td>829000.0</td>\n",
       "    </tr>\n",
       "    <tr>\n",
       "      <th>305</th>\n",
       "      <td>4</td>\n",
       "      <td>4</td>\n",
       "      <td>2790.0</td>\n",
       "      <td>0</td>\n",
       "      <td>0</td>\n",
       "      <td>0</td>\n",
       "      <td>1</td>\n",
       "      <td>1058218</td>\n",
       "      <td>1698000.0</td>\n",
       "    </tr>\n",
       "  </tbody>\n",
       "</table>\n",
       "<p>306 rows × 9 columns</p>\n",
       "</div>"
      ],
      "text/plain": [
       "     beds  baths    area  borough_brooklyn  borough_manhattan  borough_queens  \\\n",
       "0       2      1  1045.0                 0                  0               0   \n",
       "1       3      2  1400.0                 0                  0               0   \n",
       "2       2      1   938.0                 0                  0               0   \n",
       "3       5      5  4478.0                 0                  0               0   \n",
       "4       5      5  4478.0                 0                  0               0   \n",
       "..    ...    ...     ...               ...                ...             ...   \n",
       "301     3      2  1442.0                 0                  0               0   \n",
       "302    11      6  4950.0                 0                  0               1   \n",
       "303     2      1   754.0                 0                  0               1   \n",
       "304     2      2  1940.0                 0                  0               1   \n",
       "305     4      4  2790.0                 0                  0               0   \n",
       "\n",
       "     borough_statenisland  predicted      price  \n",
       "0                       0     630152  1195000.0  \n",
       "1                       1     646463   595000.0  \n",
       "2                       0     615517   339500.0  \n",
       "3                       1    1403664  1575000.0  \n",
       "4                       1    1403664  1575000.0  \n",
       "..                    ...        ...        ...  \n",
       "301                     0     799021   639000.0  \n",
       "302                     0    1801881  1288000.0  \n",
       "303                     0     625123   429000.0  \n",
       "304                     0     894407   829000.0  \n",
       "305                     1    1058218  1698000.0  \n",
       "\n",
       "[306 rows x 9 columns]"
      ]
     },
     "execution_count": 123,
     "metadata": {},
     "output_type": "execute_result"
    }
   ],
   "source": [
    "prediction_data"
   ]
  },
  {
   "cell_type": "markdown",
   "id": "6617d290",
   "metadata": {},
   "source": [
    "Now it is easy to compare the predicted and actual prices for these properties. From this dataframe we can determine which properties are undervalued or overvalued. "
   ]
  },
  {
   "cell_type": "markdown",
   "id": "412d3875",
   "metadata": {},
   "source": [
    "Let's see just how many potential savings can be discovered from utilizing our model. We will calculate the difference between predicted and actual price for each property in the test data set. "
   ]
  },
  {
   "cell_type": "code",
   "execution_count": 132,
   "id": "acf1aaf1",
   "metadata": {},
   "outputs": [],
   "source": [
    "undervalued = prediction_data[prediction_data['predicted'] > prediction_data['price']]"
   ]
  },
  {
   "cell_type": "code",
   "execution_count": 133,
   "id": "54672489",
   "metadata": {
    "collapsed": true
   },
   "outputs": [
    {
     "name": "stderr",
     "output_type": "stream",
     "text": [
      "C:\\Users\\brand\\AppData\\Local\\Temp\\ipykernel_20284\\2268743495.py:1: SettingWithCopyWarning: \n",
      "A value is trying to be set on a copy of a slice from a DataFrame.\n",
      "Try using .loc[row_indexer,col_indexer] = value instead\n",
      "\n",
      "See the caveats in the documentation: https://pandas.pydata.org/pandas-docs/stable/user_guide/indexing.html#returning-a-view-versus-a-copy\n",
      "  undervalued['disparity'] = undervalued['price'] - undervalued['predicted']\n"
     ]
    }
   ],
   "source": [
    "undervalued['disparity'] = undervalued['price'] - undervalued['predicted']"
   ]
  },
  {
   "cell_type": "code",
   "execution_count": 134,
   "id": "f40552d9",
   "metadata": {},
   "outputs": [
    {
     "data": {
      "text/html": [
       "<div>\n",
       "<style scoped>\n",
       "    .dataframe tbody tr th:only-of-type {\n",
       "        vertical-align: middle;\n",
       "    }\n",
       "\n",
       "    .dataframe tbody tr th {\n",
       "        vertical-align: top;\n",
       "    }\n",
       "\n",
       "    .dataframe thead th {\n",
       "        text-align: right;\n",
       "    }\n",
       "</style>\n",
       "<table border=\"1\" class=\"dataframe\">\n",
       "  <thead>\n",
       "    <tr style=\"text-align: right;\">\n",
       "      <th></th>\n",
       "      <th>beds</th>\n",
       "      <th>baths</th>\n",
       "      <th>area</th>\n",
       "      <th>borough_brooklyn</th>\n",
       "      <th>borough_manhattan</th>\n",
       "      <th>borough_queens</th>\n",
       "      <th>borough_statenisland</th>\n",
       "      <th>predicted</th>\n",
       "      <th>price</th>\n",
       "      <th>disparity</th>\n",
       "    </tr>\n",
       "  </thead>\n",
       "  <tbody>\n",
       "    <tr>\n",
       "      <th>1</th>\n",
       "      <td>3</td>\n",
       "      <td>2</td>\n",
       "      <td>1400.0</td>\n",
       "      <td>0</td>\n",
       "      <td>0</td>\n",
       "      <td>0</td>\n",
       "      <td>1</td>\n",
       "      <td>646463</td>\n",
       "      <td>595000.0</td>\n",
       "      <td>-51463.0</td>\n",
       "    </tr>\n",
       "    <tr>\n",
       "      <th>2</th>\n",
       "      <td>2</td>\n",
       "      <td>1</td>\n",
       "      <td>938.0</td>\n",
       "      <td>0</td>\n",
       "      <td>0</td>\n",
       "      <td>0</td>\n",
       "      <td>0</td>\n",
       "      <td>615517</td>\n",
       "      <td>339500.0</td>\n",
       "      <td>-276017.0</td>\n",
       "    </tr>\n",
       "    <tr>\n",
       "      <th>6</th>\n",
       "      <td>4</td>\n",
       "      <td>3</td>\n",
       "      <td>1480.0</td>\n",
       "      <td>0</td>\n",
       "      <td>1</td>\n",
       "      <td>0</td>\n",
       "      <td>0</td>\n",
       "      <td>823454</td>\n",
       "      <td>729999.0</td>\n",
       "      <td>-93455.0</td>\n",
       "    </tr>\n",
       "    <tr>\n",
       "      <th>8</th>\n",
       "      <td>3</td>\n",
       "      <td>2</td>\n",
       "      <td>1008.0</td>\n",
       "      <td>0</td>\n",
       "      <td>0</td>\n",
       "      <td>0</td>\n",
       "      <td>1</td>\n",
       "      <td>592847</td>\n",
       "      <td>548000.0</td>\n",
       "      <td>-44847.0</td>\n",
       "    </tr>\n",
       "    <tr>\n",
       "      <th>10</th>\n",
       "      <td>3</td>\n",
       "      <td>3</td>\n",
       "      <td>1618.0</td>\n",
       "      <td>0</td>\n",
       "      <td>0</td>\n",
       "      <td>0</td>\n",
       "      <td>1</td>\n",
       "      <td>783348</td>\n",
       "      <td>529000.0</td>\n",
       "      <td>-254348.0</td>\n",
       "    </tr>\n",
       "    <tr>\n",
       "      <th>...</th>\n",
       "      <td>...</td>\n",
       "      <td>...</td>\n",
       "      <td>...</td>\n",
       "      <td>...</td>\n",
       "      <td>...</td>\n",
       "      <td>...</td>\n",
       "      <td>...</td>\n",
       "      <td>...</td>\n",
       "      <td>...</td>\n",
       "      <td>...</td>\n",
       "    </tr>\n",
       "    <tr>\n",
       "      <th>300</th>\n",
       "      <td>4</td>\n",
       "      <td>1</td>\n",
       "      <td>2240.0</td>\n",
       "      <td>1</td>\n",
       "      <td>0</td>\n",
       "      <td>0</td>\n",
       "      <td>0</td>\n",
       "      <td>663761</td>\n",
       "      <td>629995.0</td>\n",
       "      <td>-33766.0</td>\n",
       "    </tr>\n",
       "    <tr>\n",
       "      <th>301</th>\n",
       "      <td>3</td>\n",
       "      <td>2</td>\n",
       "      <td>1442.0</td>\n",
       "      <td>0</td>\n",
       "      <td>0</td>\n",
       "      <td>0</td>\n",
       "      <td>0</td>\n",
       "      <td>799021</td>\n",
       "      <td>639000.0</td>\n",
       "      <td>-160021.0</td>\n",
       "    </tr>\n",
       "    <tr>\n",
       "      <th>302</th>\n",
       "      <td>11</td>\n",
       "      <td>6</td>\n",
       "      <td>4950.0</td>\n",
       "      <td>0</td>\n",
       "      <td>0</td>\n",
       "      <td>1</td>\n",
       "      <td>0</td>\n",
       "      <td>1801881</td>\n",
       "      <td>1288000.0</td>\n",
       "      <td>-513881.0</td>\n",
       "    </tr>\n",
       "    <tr>\n",
       "      <th>303</th>\n",
       "      <td>2</td>\n",
       "      <td>1</td>\n",
       "      <td>754.0</td>\n",
       "      <td>0</td>\n",
       "      <td>0</td>\n",
       "      <td>1</td>\n",
       "      <td>0</td>\n",
       "      <td>625123</td>\n",
       "      <td>429000.0</td>\n",
       "      <td>-196123.0</td>\n",
       "    </tr>\n",
       "    <tr>\n",
       "      <th>304</th>\n",
       "      <td>2</td>\n",
       "      <td>2</td>\n",
       "      <td>1940.0</td>\n",
       "      <td>0</td>\n",
       "      <td>0</td>\n",
       "      <td>1</td>\n",
       "      <td>0</td>\n",
       "      <td>894407</td>\n",
       "      <td>829000.0</td>\n",
       "      <td>-65407.0</td>\n",
       "    </tr>\n",
       "  </tbody>\n",
       "</table>\n",
       "<p>166 rows × 10 columns</p>\n",
       "</div>"
      ],
      "text/plain": [
       "     beds  baths    area  borough_brooklyn  borough_manhattan  borough_queens  \\\n",
       "1       3      2  1400.0                 0                  0               0   \n",
       "2       2      1   938.0                 0                  0               0   \n",
       "6       4      3  1480.0                 0                  1               0   \n",
       "8       3      2  1008.0                 0                  0               0   \n",
       "10      3      3  1618.0                 0                  0               0   \n",
       "..    ...    ...     ...               ...                ...             ...   \n",
       "300     4      1  2240.0                 1                  0               0   \n",
       "301     3      2  1442.0                 0                  0               0   \n",
       "302    11      6  4950.0                 0                  0               1   \n",
       "303     2      1   754.0                 0                  0               1   \n",
       "304     2      2  1940.0                 0                  0               1   \n",
       "\n",
       "     borough_statenisland  predicted      price  disparity  \n",
       "1                       1     646463   595000.0   -51463.0  \n",
       "2                       0     615517   339500.0  -276017.0  \n",
       "6                       0     823454   729999.0   -93455.0  \n",
       "8                       1     592847   548000.0   -44847.0  \n",
       "10                      1     783348   529000.0  -254348.0  \n",
       "..                    ...        ...        ...        ...  \n",
       "300                     0     663761   629995.0   -33766.0  \n",
       "301                     0     799021   639000.0  -160021.0  \n",
       "302                     0    1801881  1288000.0  -513881.0  \n",
       "303                     0     625123   429000.0  -196123.0  \n",
       "304                     0     894407   829000.0   -65407.0  \n",
       "\n",
       "[166 rows x 10 columns]"
      ]
     },
     "execution_count": 134,
     "metadata": {},
     "output_type": "execute_result"
    }
   ],
   "source": [
    "undervalued"
   ]
  },
  {
   "cell_type": "code",
   "execution_count": 135,
   "id": "36deb52c",
   "metadata": {
    "collapsed": true
   },
   "outputs": [
    {
     "name": "stderr",
     "output_type": "stream",
     "text": [
      "C:\\Users\\brand\\AppData\\Local\\Temp\\ipykernel_20284\\345939827.py:1: SettingWithCopyWarning: \n",
      "A value is trying to be set on a copy of a slice from a DataFrame.\n",
      "Try using .loc[row_indexer,col_indexer] = value instead\n",
      "\n",
      "See the caveats in the documentation: https://pandas.pydata.org/pandas-docs/stable/user_guide/indexing.html#returning-a-view-versus-a-copy\n",
      "  undervalued['savings_pct'] = abs(undervalued['disparity'] / undervalued['price'] * 100)\n"
     ]
    }
   ],
   "source": [
    "undervalued['savings_pct'] = abs(undervalued['disparity'] / undervalued['price'] * 100)"
   ]
  },
  {
   "cell_type": "code",
   "execution_count": 138,
   "id": "0110c461",
   "metadata": {},
   "outputs": [
    {
     "data": {
      "text/plain": [
       "30.07948325045931"
      ]
     },
     "execution_count": 138,
     "metadata": {},
     "output_type": "execute_result"
    }
   ],
   "source": [
    "undervalued['savings_pct'].mean()"
   ]
  },
  {
   "cell_type": "markdown",
   "id": "6ac6e900",
   "metadata": {},
   "source": [
    "Average disparity (as a percentage) between actual price and predicted price"
   ]
  },
  {
   "cell_type": "code",
   "execution_count": 129,
   "id": "dc5ac9da",
   "metadata": {},
   "outputs": [
    {
     "data": {
      "text/plain": [
       "<matplotlib.collections.PathCollection at 0x22b29d75ae0>"
      ]
     },
     "execution_count": 129,
     "metadata": {},
     "output_type": "execute_result"
    },
    {
     "data": {
      "image/png": "[encoded data removed]",
      "text/plain": [
       "<Figure size 640x480 with 1 Axes>"
      ]
     },
     "metadata": {},
     "output_type": "display_data"
    }
   ],
   "source": [
    "plt.scatter(undervalued['price'], undervalued['disparity'])"
   ]
  },
  {
   "cell_type": "markdown",
   "id": "43f5fd64",
   "metadata": {},
   "source": [
    "Distribution of disparity by price per property."
   ]
  },
  {
   "cell_type": "code",
   "execution_count": 144,
   "id": "441c246b",
   "metadata": {},
   "outputs": [
    {
     "data": {
      "text/plain": [
       "164.79913490132466"
      ]
     },
     "execution_count": 144,
     "metadata": {},
     "output_type": "execute_result"
    }
   ],
   "source": [
    "undervalued['savings_pct'].max()"
   ]
  },
  {
   "cell_type": "markdown",
   "id": "09e7a58d",
   "metadata": {},
   "source": [
    "Maximum savings possible."
   ]
  }
 ],
 "metadata": {
  "kernelspec": {
   "display_name": "Python 3 (ipykernel)",
   "language": "python",
   "name": "python3"
  },
  "language_info": {
   "codemirror_mode": {
    "name": "ipython",
    "version": 3
   },
   "file_extension": ".py",
   "mimetype": "text/x-python",
   "name": "python",
   "nbconvert_exporter": "python",
   "pygments_lexer": "ipython3",
   "version": "3.10.11"
  }
 },
 "nbformat": 4,
 "nbformat_minor": 5
}
